{
  "cells": [
    {
      "cell_type": "markdown",
      "metadata": {
        "id": "view-in-github",
        "colab_type": "text"
      },
      "source": [
        "<a href=\"https://colab.research.google.com/github/KeerHu73/wrangling/blob/main/assignment/assignment.ipynb\" target=\"_parent\"><img src=\"https://colab.research.google.com/assets/colab-badge.svg\" alt=\"Open In Colab\"/></a>"
      ]
    },
    {
      "cell_type": "markdown",
      "id": "13ad028b-72b7-43ed-aa78-96fd4e518040",
      "metadata": {
        "id": "13ad028b-72b7-43ed-aa78-96fd4e518040"
      },
      "source": [
        "# Assignment: Data Wrangling\n",
        "### `! git clone https://github.com/ds4e/wrangling`\n",
        "### Do Q1 and Q2, and either Q3 or Q4, for a total of 3 questions."
      ]
    },
    {
      "cell_type": "markdown",
      "id": "da879ea7-8aac-48a3-b6c2-daea56d2e072",
      "metadata": {
        "id": "da879ea7-8aac-48a3-b6c2-daea56d2e072"
      },
      "source": [
        "**Q1.** This question provides some practice cleaning variables which have common problems.\n",
        "1. Numeric variable: For `./data/airbnb_hw.csv`, clean the `Price` variable as well as you can, and explain the choices you make. How many missing values do you end up with? (Hint: What happens to the formatting when a price goes over 999 dollars, say from 675 to 1,112?)\n",
        "2. Categorical variable: For the Minnesota police use of for data, `./data/mn_police_use_of_force.csv`, clean the `subject_injury` variable, handling the NA's; this gives a value `Yes` when a person was injured by police, and `No` when no injury occurred. What proportion of the values are missing? Is this a concern? Cross-tabulate your cleaned `subject_injury` variable with the `force_type` variable. Are there any patterns regarding when the data are missing?\n",
        "3. Dummy variable: For the pretrial data covered in the lecture, clean the `WhetherDefendantWasReleasedPretrial` variable as well as you can, and, in particular, replace missing values with `np.nan`.\n",
        "4. Missing values, not at random: For the pretrial data covered in the lecture, clean the `ImposedSentenceAllChargeInContactEvent` variable as well as you can, and explain the choices you make. (Hint: Look at the `SentenceTypeAllChargesAtConvictionInContactEvent` variable.)"
      ]
    },
    {
      "cell_type": "markdown",
      "source": [
        "1.Numeric variable: For ./data/airbnb_hw.csv, clean the Price variable as well as you can, and explain the choices you make. How many missing values do you end up with? (Hint: What happens to the formatting when a price goes over 999 dollars, say from 675 to 1,112?)"
      ],
      "metadata": {
        "id": "bDNjH5ttKLYb"
      },
      "id": "bDNjH5ttKLYb"
    },
    {
      "cell_type": "code",
      "source": [
        "#question1\n",
        "import pandas as pd\n",
        "import numpy as np\n",
        "import seaborn as sns\n",
        "url = \"https://raw.githubusercontent.com/KeerHu73/wrangling/refs/heads/main/assignment/data/airbnb_hw.csv\"\n",
        "df = pd.read_csv(url,low_memory=False)\n",
        "\n",
        "##Check the original format of the Price variable\n",
        "print( df.shape, '\\n')\n",
        "df.head()\n"
      ],
      "metadata": {
        "colab": {
          "base_uri": "https://localhost:8080/",
          "height": 505
        },
        "id": "zfVpFZ2IOtr6",
        "outputId": "251ad3f8-5920-4456-ad8d-232aefc89664"
      },
      "id": "zfVpFZ2IOtr6",
      "execution_count": 30,
      "outputs": [
        {
          "output_type": "stream",
          "name": "stdout",
          "text": [
            "(30478, 13) \n",
            "\n"
          ]
        },
        {
          "output_type": "execute_result",
          "data": {
            "text/plain": [
              "    Host Id Host Since                                Name Neighbourhood   \\\n",
              "0   5162530        NaN     1 Bedroom in Prime Williamsburg       Brooklyn   \n",
              "1  33134899        NaN     Sunny, Private room in Bushwick       Brooklyn   \n",
              "2  39608626        NaN                Sunny Room in Harlem      Manhattan   \n",
              "3       500  6/26/2008  Gorgeous 1 BR with Private Balcony      Manhattan   \n",
              "4       500  6/26/2008            Trendy Times Square Loft      Manhattan   \n",
              "\n",
              "  Property Type  Review Scores Rating (bin)        Room Type  Zipcode  Beds  \\\n",
              "0     Apartment                         NaN  Entire home/apt  11249.0   1.0   \n",
              "1     Apartment                         NaN     Private room  11206.0   1.0   \n",
              "2     Apartment                         NaN     Private room  10032.0   1.0   \n",
              "3     Apartment                         NaN  Entire home/apt  10024.0   3.0   \n",
              "4     Apartment                        95.0     Private room  10036.0   3.0   \n",
              "\n",
              "   Number of Records  Number Of Reviews Price  Review Scores Rating  \n",
              "0                  1                  0   145                   NaN  \n",
              "1                  1                  1    37                   NaN  \n",
              "2                  1                  1    28                   NaN  \n",
              "3                  1                  0   199                   NaN  \n",
              "4                  1                 39   549                  96.0  "
            ],
            "text/html": [
              "\n",
              "  <div id=\"df-48225871-69b8-4280-ba6f-11e44a88c3c3\" class=\"colab-df-container\">\n",
              "    <div>\n",
              "<style scoped>\n",
              "    .dataframe tbody tr th:only-of-type {\n",
              "        vertical-align: middle;\n",
              "    }\n",
              "\n",
              "    .dataframe tbody tr th {\n",
              "        vertical-align: top;\n",
              "    }\n",
              "\n",
              "    .dataframe thead th {\n",
              "        text-align: right;\n",
              "    }\n",
              "</style>\n",
              "<table border=\"1\" class=\"dataframe\">\n",
              "  <thead>\n",
              "    <tr style=\"text-align: right;\">\n",
              "      <th></th>\n",
              "      <th>Host Id</th>\n",
              "      <th>Host Since</th>\n",
              "      <th>Name</th>\n",
              "      <th>Neighbourhood</th>\n",
              "      <th>Property Type</th>\n",
              "      <th>Review Scores Rating (bin)</th>\n",
              "      <th>Room Type</th>\n",
              "      <th>Zipcode</th>\n",
              "      <th>Beds</th>\n",
              "      <th>Number of Records</th>\n",
              "      <th>Number Of Reviews</th>\n",
              "      <th>Price</th>\n",
              "      <th>Review Scores Rating</th>\n",
              "    </tr>\n",
              "  </thead>\n",
              "  <tbody>\n",
              "    <tr>\n",
              "      <th>0</th>\n",
              "      <td>5162530</td>\n",
              "      <td>NaN</td>\n",
              "      <td>1 Bedroom in Prime Williamsburg</td>\n",
              "      <td>Brooklyn</td>\n",
              "      <td>Apartment</td>\n",
              "      <td>NaN</td>\n",
              "      <td>Entire home/apt</td>\n",
              "      <td>11249.0</td>\n",
              "      <td>1.0</td>\n",
              "      <td>1</td>\n",
              "      <td>0</td>\n",
              "      <td>145</td>\n",
              "      <td>NaN</td>\n",
              "    </tr>\n",
              "    <tr>\n",
              "      <th>1</th>\n",
              "      <td>33134899</td>\n",
              "      <td>NaN</td>\n",
              "      <td>Sunny, Private room in Bushwick</td>\n",
              "      <td>Brooklyn</td>\n",
              "      <td>Apartment</td>\n",
              "      <td>NaN</td>\n",
              "      <td>Private room</td>\n",
              "      <td>11206.0</td>\n",
              "      <td>1.0</td>\n",
              "      <td>1</td>\n",
              "      <td>1</td>\n",
              "      <td>37</td>\n",
              "      <td>NaN</td>\n",
              "    </tr>\n",
              "    <tr>\n",
              "      <th>2</th>\n",
              "      <td>39608626</td>\n",
              "      <td>NaN</td>\n",
              "      <td>Sunny Room in Harlem</td>\n",
              "      <td>Manhattan</td>\n",
              "      <td>Apartment</td>\n",
              "      <td>NaN</td>\n",
              "      <td>Private room</td>\n",
              "      <td>10032.0</td>\n",
              "      <td>1.0</td>\n",
              "      <td>1</td>\n",
              "      <td>1</td>\n",
              "      <td>28</td>\n",
              "      <td>NaN</td>\n",
              "    </tr>\n",
              "    <tr>\n",
              "      <th>3</th>\n",
              "      <td>500</td>\n",
              "      <td>6/26/2008</td>\n",
              "      <td>Gorgeous 1 BR with Private Balcony</td>\n",
              "      <td>Manhattan</td>\n",
              "      <td>Apartment</td>\n",
              "      <td>NaN</td>\n",
              "      <td>Entire home/apt</td>\n",
              "      <td>10024.0</td>\n",
              "      <td>3.0</td>\n",
              "      <td>1</td>\n",
              "      <td>0</td>\n",
              "      <td>199</td>\n",
              "      <td>NaN</td>\n",
              "    </tr>\n",
              "    <tr>\n",
              "      <th>4</th>\n",
              "      <td>500</td>\n",
              "      <td>6/26/2008</td>\n",
              "      <td>Trendy Times Square Loft</td>\n",
              "      <td>Manhattan</td>\n",
              "      <td>Apartment</td>\n",
              "      <td>95.0</td>\n",
              "      <td>Private room</td>\n",
              "      <td>10036.0</td>\n",
              "      <td>3.0</td>\n",
              "      <td>1</td>\n",
              "      <td>39</td>\n",
              "      <td>549</td>\n",
              "      <td>96.0</td>\n",
              "    </tr>\n",
              "  </tbody>\n",
              "</table>\n",
              "</div>\n",
              "    <div class=\"colab-df-buttons\">\n",
              "\n",
              "  <div class=\"colab-df-container\">\n",
              "    <button class=\"colab-df-convert\" onclick=\"convertToInteractive('df-48225871-69b8-4280-ba6f-11e44a88c3c3')\"\n",
              "            title=\"Convert this dataframe to an interactive table.\"\n",
              "            style=\"display:none;\">\n",
              "\n",
              "  <svg xmlns=\"http://www.w3.org/2000/svg\" height=\"24px\" viewBox=\"0 -960 960 960\">\n",
              "    <path d=\"M120-120v-720h720v720H120Zm60-500h600v-160H180v160Zm220 220h160v-160H400v160Zm0 220h160v-160H400v160ZM180-400h160v-160H180v160Zm440 0h160v-160H620v160ZM180-180h160v-160H180v160Zm440 0h160v-160H620v160Z\"/>\n",
              "  </svg>\n",
              "    </button>\n",
              "\n",
              "  <style>\n",
              "    .colab-df-container {\n",
              "      display:flex;\n",
              "      gap: 12px;\n",
              "    }\n",
              "\n",
              "    .colab-df-convert {\n",
              "      background-color: #E8F0FE;\n",
              "      border: none;\n",
              "      border-radius: 50%;\n",
              "      cursor: pointer;\n",
              "      display: none;\n",
              "      fill: #1967D2;\n",
              "      height: 32px;\n",
              "      padding: 0 0 0 0;\n",
              "      width: 32px;\n",
              "    }\n",
              "\n",
              "    .colab-df-convert:hover {\n",
              "      background-color: #E2EBFA;\n",
              "      box-shadow: 0px 1px 2px rgba(60, 64, 67, 0.3), 0px 1px 3px 1px rgba(60, 64, 67, 0.15);\n",
              "      fill: #174EA6;\n",
              "    }\n",
              "\n",
              "    .colab-df-buttons div {\n",
              "      margin-bottom: 4px;\n",
              "    }\n",
              "\n",
              "    [theme=dark] .colab-df-convert {\n",
              "      background-color: #3B4455;\n",
              "      fill: #D2E3FC;\n",
              "    }\n",
              "\n",
              "    [theme=dark] .colab-df-convert:hover {\n",
              "      background-color: #434B5C;\n",
              "      box-shadow: 0px 1px 3px 1px rgba(0, 0, 0, 0.15);\n",
              "      filter: drop-shadow(0px 1px 2px rgba(0, 0, 0, 0.3));\n",
              "      fill: #FFFFFF;\n",
              "    }\n",
              "  </style>\n",
              "\n",
              "    <script>\n",
              "      const buttonEl =\n",
              "        document.querySelector('#df-48225871-69b8-4280-ba6f-11e44a88c3c3 button.colab-df-convert');\n",
              "      buttonEl.style.display =\n",
              "        google.colab.kernel.accessAllowed ? 'block' : 'none';\n",
              "\n",
              "      async function convertToInteractive(key) {\n",
              "        const element = document.querySelector('#df-48225871-69b8-4280-ba6f-11e44a88c3c3');\n",
              "        const dataTable =\n",
              "          await google.colab.kernel.invokeFunction('convertToInteractive',\n",
              "                                                    [key], {});\n",
              "        if (!dataTable) return;\n",
              "\n",
              "        const docLinkHtml = 'Like what you see? Visit the ' +\n",
              "          '<a target=\"_blank\" href=https://colab.research.google.com/notebooks/data_table.ipynb>data table notebook</a>'\n",
              "          + ' to learn more about interactive tables.';\n",
              "        element.innerHTML = '';\n",
              "        dataTable['output_type'] = 'display_data';\n",
              "        await google.colab.output.renderOutput(dataTable, element);\n",
              "        const docLink = document.createElement('div');\n",
              "        docLink.innerHTML = docLinkHtml;\n",
              "        element.appendChild(docLink);\n",
              "      }\n",
              "    </script>\n",
              "  </div>\n",
              "\n",
              "\n",
              "<div id=\"df-20b54991-d532-4f5c-9e45-19974f8b31e3\">\n",
              "  <button class=\"colab-df-quickchart\" onclick=\"quickchart('df-20b54991-d532-4f5c-9e45-19974f8b31e3')\"\n",
              "            title=\"Suggest charts\"\n",
              "            style=\"display:none;\">\n",
              "\n",
              "<svg xmlns=\"http://www.w3.org/2000/svg\" height=\"24px\"viewBox=\"0 0 24 24\"\n",
              "     width=\"24px\">\n",
              "    <g>\n",
              "        <path d=\"M19 3H5c-1.1 0-2 .9-2 2v14c0 1.1.9 2 2 2h14c1.1 0 2-.9 2-2V5c0-1.1-.9-2-2-2zM9 17H7v-7h2v7zm4 0h-2V7h2v10zm4 0h-2v-4h2v4z\"/>\n",
              "    </g>\n",
              "</svg>\n",
              "  </button>\n",
              "\n",
              "<style>\n",
              "  .colab-df-quickchart {\n",
              "      --bg-color: #E8F0FE;\n",
              "      --fill-color: #1967D2;\n",
              "      --hover-bg-color: #E2EBFA;\n",
              "      --hover-fill-color: #174EA6;\n",
              "      --disabled-fill-color: #AAA;\n",
              "      --disabled-bg-color: #DDD;\n",
              "  }\n",
              "\n",
              "  [theme=dark] .colab-df-quickchart {\n",
              "      --bg-color: #3B4455;\n",
              "      --fill-color: #D2E3FC;\n",
              "      --hover-bg-color: #434B5C;\n",
              "      --hover-fill-color: #FFFFFF;\n",
              "      --disabled-bg-color: #3B4455;\n",
              "      --disabled-fill-color: #666;\n",
              "  }\n",
              "\n",
              "  .colab-df-quickchart {\n",
              "    background-color: var(--bg-color);\n",
              "    border: none;\n",
              "    border-radius: 50%;\n",
              "    cursor: pointer;\n",
              "    display: none;\n",
              "    fill: var(--fill-color);\n",
              "    height: 32px;\n",
              "    padding: 0;\n",
              "    width: 32px;\n",
              "  }\n",
              "\n",
              "  .colab-df-quickchart:hover {\n",
              "    background-color: var(--hover-bg-color);\n",
              "    box-shadow: 0 1px 2px rgba(60, 64, 67, 0.3), 0 1px 3px 1px rgba(60, 64, 67, 0.15);\n",
              "    fill: var(--button-hover-fill-color);\n",
              "  }\n",
              "\n",
              "  .colab-df-quickchart-complete:disabled,\n",
              "  .colab-df-quickchart-complete:disabled:hover {\n",
              "    background-color: var(--disabled-bg-color);\n",
              "    fill: var(--disabled-fill-color);\n",
              "    box-shadow: none;\n",
              "  }\n",
              "\n",
              "  .colab-df-spinner {\n",
              "    border: 2px solid var(--fill-color);\n",
              "    border-color: transparent;\n",
              "    border-bottom-color: var(--fill-color);\n",
              "    animation:\n",
              "      spin 1s steps(1) infinite;\n",
              "  }\n",
              "\n",
              "  @keyframes spin {\n",
              "    0% {\n",
              "      border-color: transparent;\n",
              "      border-bottom-color: var(--fill-color);\n",
              "      border-left-color: var(--fill-color);\n",
              "    }\n",
              "    20% {\n",
              "      border-color: transparent;\n",
              "      border-left-color: var(--fill-color);\n",
              "      border-top-color: var(--fill-color);\n",
              "    }\n",
              "    30% {\n",
              "      border-color: transparent;\n",
              "      border-left-color: var(--fill-color);\n",
              "      border-top-color: var(--fill-color);\n",
              "      border-right-color: var(--fill-color);\n",
              "    }\n",
              "    40% {\n",
              "      border-color: transparent;\n",
              "      border-right-color: var(--fill-color);\n",
              "      border-top-color: var(--fill-color);\n",
              "    }\n",
              "    60% {\n",
              "      border-color: transparent;\n",
              "      border-right-color: var(--fill-color);\n",
              "    }\n",
              "    80% {\n",
              "      border-color: transparent;\n",
              "      border-right-color: var(--fill-color);\n",
              "      border-bottom-color: var(--fill-color);\n",
              "    }\n",
              "    90% {\n",
              "      border-color: transparent;\n",
              "      border-bottom-color: var(--fill-color);\n",
              "    }\n",
              "  }\n",
              "</style>\n",
              "\n",
              "  <script>\n",
              "    async function quickchart(key) {\n",
              "      const quickchartButtonEl =\n",
              "        document.querySelector('#' + key + ' button');\n",
              "      quickchartButtonEl.disabled = true;  // To prevent multiple clicks.\n",
              "      quickchartButtonEl.classList.add('colab-df-spinner');\n",
              "      try {\n",
              "        const charts = await google.colab.kernel.invokeFunction(\n",
              "            'suggestCharts', [key], {});\n",
              "      } catch (error) {\n",
              "        console.error('Error during call to suggestCharts:', error);\n",
              "      }\n",
              "      quickchartButtonEl.classList.remove('colab-df-spinner');\n",
              "      quickchartButtonEl.classList.add('colab-df-quickchart-complete');\n",
              "    }\n",
              "    (() => {\n",
              "      let quickchartButtonEl =\n",
              "        document.querySelector('#df-20b54991-d532-4f5c-9e45-19974f8b31e3 button');\n",
              "      quickchartButtonEl.style.display =\n",
              "        google.colab.kernel.accessAllowed ? 'block' : 'none';\n",
              "    })();\n",
              "  </script>\n",
              "</div>\n",
              "\n",
              "    </div>\n",
              "  </div>\n"
            ],
            "application/vnd.google.colaboratory.intrinsic+json": {
              "type": "dataframe",
              "variable_name": "df",
              "summary": "{\n  \"name\": \"df\",\n  \"rows\": 30478,\n  \"fields\": [\n    {\n      \"column\": \"Host Id\",\n      \"properties\": {\n        \"dtype\": \"number\",\n        \"std\": 11902702,\n        \"min\": 500,\n        \"max\": 43033067,\n        \"num_unique_values\": 24421,\n        \"samples\": [\n          24093114,\n          16925490,\n          2886652\n        ],\n        \"semantic_type\": \"\",\n        \"description\": \"\"\n      }\n    },\n    {\n      \"column\": \"Host Since\",\n      \"properties\": {\n        \"dtype\": \"date\",\n        \"min\": \"2008-06-26 00:00:00\",\n        \"max\": \"2015-08-31 00:00:00\",\n        \"num_unique_values\": 2240,\n        \"samples\": [\n          \"5/20/2010\",\n          \"7/2/2009\",\n          \"4/18/2015\"\n        ],\n        \"semantic_type\": \"\",\n        \"description\": \"\"\n      }\n    },\n    {\n      \"column\": \"Name\",\n      \"properties\": {\n        \"dtype\": \"string\",\n        \"num_unique_values\": 29413,\n        \"samples\": [\n          \"Explore the beauty of Brooklyn\",\n          \"Sunny Room in Williamsburg Loft\",\n          \"cozy one bedroom in lower east side\"\n        ],\n        \"semantic_type\": \"\",\n        \"description\": \"\"\n      }\n    },\n    {\n      \"column\": \"Neighbourhood \",\n      \"properties\": {\n        \"dtype\": \"category\",\n        \"num_unique_values\": 5,\n        \"samples\": [\n          \"Manhattan\",\n          \"Staten Island\",\n          \"Queens\"\n        ],\n        \"semantic_type\": \"\",\n        \"description\": \"\"\n      }\n    },\n    {\n      \"column\": \"Property Type\",\n      \"properties\": {\n        \"dtype\": \"category\",\n        \"num_unique_values\": 19,\n        \"samples\": [\n          \"Apartment\",\n          \"Condominium\",\n          \"Bungalow\"\n        ],\n        \"semantic_type\": \"\",\n        \"description\": \"\"\n      }\n    },\n    {\n      \"column\": \"Review Scores Rating (bin)\",\n      \"properties\": {\n        \"dtype\": \"number\",\n        \"std\": 9.05951861814779,\n        \"min\": 20.0,\n        \"max\": 100.0,\n        \"num_unique_values\": 15,\n        \"samples\": [\n          40.0,\n          20.0,\n          95.0\n        ],\n        \"semantic_type\": \"\",\n        \"description\": \"\"\n      }\n    },\n    {\n      \"column\": \"Room Type\",\n      \"properties\": {\n        \"dtype\": \"category\",\n        \"num_unique_values\": 3,\n        \"samples\": [\n          \"Entire home/apt\",\n          \"Private room\",\n          \"Shared room\"\n        ],\n        \"semantic_type\": \"\",\n        \"description\": \"\"\n      }\n    },\n    {\n      \"column\": \"Zipcode\",\n      \"properties\": {\n        \"dtype\": \"number\",\n        \"std\": 921.2993969568683,\n        \"min\": 1003.0,\n        \"max\": 99135.0,\n        \"num_unique_values\": 188,\n        \"samples\": [\n          11414.0,\n          11239.0,\n          11365.0\n        ],\n        \"semantic_type\": \"\",\n        \"description\": \"\"\n      }\n    },\n    {\n      \"column\": \"Beds\",\n      \"properties\": {\n        \"dtype\": \"number\",\n        \"std\": 1.0153587174802678,\n        \"min\": 0.0,\n        \"max\": 16.0,\n        \"num_unique_values\": 14,\n        \"samples\": [\n          12.0,\n          16.0,\n          1.0\n        ],\n        \"semantic_type\": \"\",\n        \"description\": \"\"\n      }\n    },\n    {\n      \"column\": \"Number of Records\",\n      \"properties\": {\n        \"dtype\": \"number\",\n        \"std\": 0,\n        \"min\": 1,\n        \"max\": 1,\n        \"num_unique_values\": 1,\n        \"samples\": [\n          1\n        ],\n        \"semantic_type\": \"\",\n        \"description\": \"\"\n      }\n    },\n    {\n      \"column\": \"Number Of Reviews\",\n      \"properties\": {\n        \"dtype\": \"number\",\n        \"std\": 21,\n        \"min\": 0,\n        \"max\": 257,\n        \"num_unique_values\": 205,\n        \"samples\": [\n          171\n        ],\n        \"semantic_type\": \"\",\n        \"description\": \"\"\n      }\n    },\n    {\n      \"column\": \"Price\",\n      \"properties\": {\n        \"dtype\": \"category\",\n        \"num_unique_values\": 511,\n        \"samples\": [\n          \"299\"\n        ],\n        \"semantic_type\": \"\",\n        \"description\": \"\"\n      }\n    },\n    {\n      \"column\": \"Review Scores Rating\",\n      \"properties\": {\n        \"dtype\": \"number\",\n        \"std\": 8.850373136231884,\n        \"min\": 20.0,\n        \"max\": 100.0,\n        \"num_unique_values\": 51,\n        \"samples\": [\n          58.0\n        ],\n        \"semantic_type\": \"\",\n        \"description\": \"\"\n      }\n    }\n  ]\n}"
            }
          },
          "metadata": {},
          "execution_count": 30
        }
      ]
    },
    {
      "cell_type": "code",
      "source": [
        "#When checking the unique values of \"Price\", it was found that they contain commas\n",
        "price = df['Price']\n",
        "print(price.unique())\n",
        "#These imported data are strings. The next step will be to remove commas in values.\n"
      ],
      "metadata": {
        "colab": {
          "base_uri": "https://localhost:8080/",
          "height": 0
        },
        "id": "xxKyLRwAQSjT",
        "outputId": "19f14df7-8ed3-4fab-c9c0-b4ba9c6e6d46"
      },
      "id": "xxKyLRwAQSjT",
      "execution_count": 31,
      "outputs": [
        {
          "output_type": "stream",
          "name": "stdout",
          "text": [
            "['145' '37' '28' '199' '549' '149' '250' '90' '270' '290' '170' '59' '49'\n",
            " '68' '285' '75' '100' '150' '700' '125' '175' '40' '89' '95' '99' '499'\n",
            " '120' '79' '110' '180' '143' '230' '350' '135' '85' '60' '70' '55' '44'\n",
            " '200' '165' '115' '74' '84' '129' '50' '185' '80' '190' '140' '45' '65'\n",
            " '225' '600' '109' '1,990' '73' '240' '72' '105' '155' '160' '42' '132'\n",
            " '117' '295' '280' '159' '107' '69' '239' '220' '399' '130' '375' '585'\n",
            " '275' '139' '260' '35' '133' '300' '289' '179' '98' '195' '29' '27' '39'\n",
            " '249' '192' '142' '169' '1,000' '131' '138' '113' '122' '329' '101' '475'\n",
            " '238' '272' '308' '126' '235' '315' '248' '128' '56' '207' '450' '215'\n",
            " '210' '385' '445' '136' '247' '118' '77' '76' '92' '198' '205' '299'\n",
            " '222' '245' '104' '153' '349' '114' '320' '292' '226' '420' '500' '325'\n",
            " '307' '78' '265' '108' '123' '189' '32' '58' '86' '219' '800' '335' '63'\n",
            " '229' '425' '67' '87' '1,200' '158' '650' '234' '310' '695' '400' '166'\n",
            " '119' '62' '168' '340' '479' '43' '395' '144' '52' '47' '529' '187' '209'\n",
            " '233' '82' '269' '163' '172' '305' '156' '550' '435' '137' '124' '48'\n",
            " '279' '330' '5,000' '134' '378' '97' '277' '64' '193' '147' '186' '264'\n",
            " '30' '3,000' '112' '94' '379' '57' '415' '236' '410' '214' '88' '66' '71'\n",
            " '171' '157' '545' '1,500' '83' '96' '1,800' '81' '188' '380' '255' '505'\n",
            " '54' '33' '174' '93' '740' '640' '1,300' '440' '599' '357' '1,239' '495'\n",
            " '127' '5,999' '178' '348' '152' '242' '183' '253' '750' '259' '365' '273'\n",
            " '197' '397' '103' '389' '355' '559' '38' '203' '999' '141' '162' '333'\n",
            " '698' '46' '360' '895' '10' '41' '206' '281' '449' '388' '212' '102'\n",
            " '201' '2,750' '4,750' '432' '675' '167' '390' '298' '339' '194' '302'\n",
            " '211' '595' '191' '53' '361' '480' '8,000' '4,500' '459' '997' '345'\n",
            " '216' '218' '111' '735' '276' '91' '490' '850' '398' '36' '775' '267'\n",
            " '625' '336' '2,500' '176' '725' '3,750' '469' '106' '460' '287' '575'\n",
            " '227' '263' '25' '228' '208' '177' '880' '148' '116' '685' '470' '217'\n",
            " '164' '61' '645' '699' '405' '252' '319' '268' '419' '343' '525' '311'\n",
            " '840' '154' '294' '950' '409' '184' '257' '204' '241' '2,000' '412' '121'\n",
            " '288' '196' '900' '647' '524' '1,750' '309' '510' '1,495' '1,700' '799'\n",
            " '383' '372' '492' '327' '1,999' '656' '224' '173' '875' '1,170' '795'\n",
            " '690' '146' '465' '1,100' '151' '274' '429' '825' '282' '256' '1,111'\n",
            " '620' '271' '161' '51' '855' '579' '1,174' '430' '20' '899' '649' '485'\n",
            " '181' '455' '4,000' '243' '342' '590' '560' '374' '437' '232' '359' '985'\n",
            " '31' '244' '254' '723' '237' '428' '370' '34' '1,400' '580' '2,520' '221'\n",
            " '749' '1,600' '2,695' '306' '202' '680' '570' '520' '223' '2,295' '213'\n",
            " '1,065' '346' '24' '286' '296' '266' '26' '995' '1,368' '393' '182' '635'\n",
            " '258' '780' '589' '347' '1,250' '1,350' '446' '3,200' '1,050' '1,650'\n",
            " '1,550' '975' '323' '6,500' '2,499' '1,850' '2,250' '715' '461' '540'\n",
            " '356' '439' '384' '569' '1,900' '22' '785' '626' '830' '318' '444' '321'\n",
            " '401' '1,499' '888' '369' '770' '386' '366' '344' '630' '313' '597' '262'\n",
            " '509' '10,000' '278' '312' '789' '1,195' '422' '21' '765' '3,500' '945'\n",
            " '326' '3,100' '2,486' '3,390' '1,356' '2,599' '472' '454' '328' '396'\n",
            " '291']\n"
          ]
        }
      ]
    },
    {
      "cell_type": "code",
      "source": [
        "price = df['Price']\n",
        "price = price.str.replace(',', '') # Replace commas with nothing\n",
        "price = pd.to_numeric(price, errors='coerce') #convert strings to numeric\n",
        "print(price.unique(), '\\n')"
      ],
      "metadata": {
        "colab": {
          "base_uri": "https://localhost:8080/",
          "height": 0
        },
        "id": "_mEZfb5oHvck",
        "outputId": "23889e91-764e-435b-d189-2c41c9556c6e"
      },
      "id": "_mEZfb5oHvck",
      "execution_count": 32,
      "outputs": [
        {
          "output_type": "stream",
          "name": "stdout",
          "text": [
            "[  145    37    28   199   549   149   250    90   270   290   170    59\n",
            "    49    68   285    75   100   150   700   125   175    40    89    95\n",
            "    99   499   120    79   110   180   143   230   350   135    85    60\n",
            "    70    55    44   200   165   115    74    84   129    50   185    80\n",
            "   190   140    45    65   225   600   109  1990    73   240    72   105\n",
            "   155   160    42   132   117   295   280   159   107    69   239   220\n",
            "   399   130   375   585   275   139   260    35   133   300   289   179\n",
            "    98   195    29    27    39   249   192   142   169  1000   131   138\n",
            "   113   122   329   101   475   238   272   308   126   235   315   248\n",
            "   128    56   207   450   215   210   385   445   136   247   118    77\n",
            "    76    92   198   205   299   222   245   104   153   349   114   320\n",
            "   292   226   420   500   325   307    78   265   108   123   189    32\n",
            "    58    86   219   800   335    63   229   425    67    87  1200   158\n",
            "   650   234   310   695   400   166   119    62   168   340   479    43\n",
            "   395   144    52    47   529   187   209   233    82   269   163   172\n",
            "   305   156   550   435   137   124    48   279   330  5000   134   378\n",
            "    97   277    64   193   147   186   264    30  3000   112    94   379\n",
            "    57   415   236   410   214    88    66    71   171   157   545  1500\n",
            "    83    96  1800    81   188   380   255   505    54    33   174    93\n",
            "   740   640  1300   440   599   357  1239   495   127  5999   178   348\n",
            "   152   242   183   253   750   259   365   273   197   397   103   389\n",
            "   355   559    38   203   999   141   162   333   698    46   360   895\n",
            "    10    41   206   281   449   388   212   102   201  2750  4750   432\n",
            "   675   167   390   298   339   194   302   211   595   191    53   361\n",
            "   480  8000  4500   459   997   345   216   218   111   735   276    91\n",
            "   490   850   398    36   775   267   625   336  2500   176   725  3750\n",
            "   469   106   460   287   575   227   263    25   228   208   177   880\n",
            "   148   116   685   470   217   164    61   645   699   405   252   319\n",
            "   268   419   343   525   311   840   154   294   950   409   184   257\n",
            "   204   241  2000   412   121   288   196   900   647   524  1750   309\n",
            "   510  1495  1700   799   383   372   492   327  1999   656   224   173\n",
            "   875  1170   795   690   146   465  1100   151   274   429   825   282\n",
            "   256  1111   620   271   161    51   855   579  1174   430    20   899\n",
            "   649   485   181   455  4000   243   342   590   560   374   437   232\n",
            "   359   985    31   244   254   723   237   428   370    34  1400   580\n",
            "  2520   221   749  1600  2695   306   202   680   570   520   223  2295\n",
            "   213  1065   346    24   286   296   266    26   995  1368   393   182\n",
            "   635   258   780   589   347  1250  1350   446  3200  1050  1650  1550\n",
            "   975   323  6500  2499  1850  2250   715   461   540   356   439   384\n",
            "   569  1900    22   785   626   830   318   444   321   401  1499   888\n",
            "   369   770   386   366   344   630   313   597   262   509 10000   278\n",
            "   312   789  1195   422    21   765  3500   945   326  3100  2486  3390\n",
            "  1356  2599   472   454   328   396   291] \n",
            "\n"
          ]
        }
      ]
    },
    {
      "cell_type": "markdown",
      "source": [
        "2. Categorical variable: For the Minnesota police use of for data, ./data/mn_police_use_of_force.csv, clean the subject_injury variable, handling the NA's; this gives a value Yes when a person was injured by police, and No when no injury occurred. What proportion of the values are missing? Is this a concern? Cross-tabulate your cleaned subject_injury variable with the force_type variable. Are there any patterns regarding when the data are missing?"
      ],
      "metadata": {
        "id": "UbuclATOKRNl"
      },
      "id": "UbuclATOKRNl"
    },
    {
      "cell_type": "code",
      "source": [
        "import pandas as pd\n",
        "\n",
        "url= \"https://raw.githubusercontent.com/KeerHu73/wrangling/refs/heads/main/assignment/data/mn_police_use_of_force.csv\"\n",
        "df = pd.read_csv(url,low_memory=False)\n",
        "\n",
        "#print(df['subject_injury'].head())\n",
        "#print(df['subject_injury'].dtype)\n",
        "#print(df['subject_injury'].unique())\n",
        "print(df['subject_injury'].value_counts(dropna=False))\n"
      ],
      "metadata": {
        "colab": {
          "base_uri": "https://localhost:8080/"
        },
        "id": "usr3lEVRKTgK",
        "outputId": "dec721de-c6a7-4c99-98ac-436893fd77a6"
      },
      "id": "usr3lEVRKTgK",
      "execution_count": null,
      "outputs": [
        {
          "output_type": "stream",
          "name": "stdout",
          "text": [
            "subject_injury\n",
            "NaN    9848\n",
            "Yes    1631\n",
            "No     1446\n",
            "Name: count, dtype: int64\n"
          ]
        }
      ]
    },
    {
      "cell_type": "code",
      "source": [
        "df['subject_injury'] = df['subject_injury'].fillna('No')\n",
        "print(df['subject_injury'].value_counts())"
      ],
      "metadata": {
        "colab": {
          "base_uri": "https://localhost:8080/"
        },
        "id": "3jK8JCu1N-KQ",
        "outputId": "de66fb60-d80f-4aa9-b107-03e182457d10"
      },
      "id": "3jK8JCu1N-KQ",
      "execution_count": null,
      "outputs": [
        {
          "output_type": "stream",
          "name": "stdout",
          "text": [
            "subject_injury\n",
            "No     11294\n",
            "Yes     1631\n",
            "Name: count, dtype: int64\n"
          ]
        }
      ]
    },
    {
      "cell_type": "code",
      "source": [
        "#calculate the proportion;\n",
        "missing_proportion = (df['subject_injury'] == 'No').sum() / len(df)\n",
        "print(\"The proportion of the values are missing is:\", missing_proportion)"
      ],
      "metadata": {
        "colab": {
          "base_uri": "https://localhost:8080/"
        },
        "id": "Wh9tbNVaOIEm",
        "outputId": "fe47c796-38da-409c-8a3b-d1d501602c1c"
      },
      "id": "Wh9tbNVaOIEm",
      "execution_count": null,
      "outputs": [
        {
          "output_type": "stream",
          "name": "stdout",
          "text": [
            "The proportion of the values are missing is: 0.8738104448742746\n"
          ]
        }
      ]
    },
    {
      "cell_type": "code",
      "source": [
        "#cross tabulation:\n",
        "cross_tab = pd.crosstab(df['subject_injury'], df['force_type'])\n",
        "print(cross_tab)"
      ],
      "metadata": {
        "colab": {
          "base_uri": "https://localhost:8080/"
        },
        "id": "FboJ0ZSSOl7x",
        "outputId": "9d1ab697-1e09-4edf-813a-fae8ebe11937"
      },
      "id": "FboJ0ZSSOl7x",
      "execution_count": null,
      "outputs": [
        {
          "output_type": "stream",
          "name": "stdout",
          "text": [
            "force_type      Baton  Bodily Force  Chemical Irritant  Firearm  \\\n",
            "subject_injury                                                    \n",
            "No                  2          8144               1552        2   \n",
            "Yes                 2          1286                 41        0   \n",
            "\n",
            "force_type      Gun Point Display  Improvised Weapon  Less Lethal  \\\n",
            "subject_injury                                                      \n",
            "No                             60                108           87   \n",
            "Yes                            44                 40            0   \n",
            "\n",
            "force_type      Less Lethal Projectile  Maximal Restraint Technique  \\\n",
            "subject_injury                                                        \n",
            "No                                   1                          170   \n",
            "Yes                                  2                            0   \n",
            "\n",
            "force_type      Police K9 Bite  Taser  \n",
            "subject_injury                         \n",
            "No                          33   1135  \n",
            "Yes                         44    172  \n"
          ]
        }
      ]
    },
    {
      "cell_type": "markdown",
      "source": [
        "3.Dummy variable: For the pretrial data covered in the lecture, clean the WhetherDefendantWasReleasedPretrial variable as well as you can, and, in particular, replace missing values with np.nan."
      ],
      "metadata": {
        "id": "Z3-SWGTaPM5m"
      },
      "id": "Z3-SWGTaPM5m"
    },
    {
      "cell_type": "code",
      "source": [
        "import pandas as pd\n",
        "\n",
        "url = \"http://www.vcsc.virginia.gov/pretrialdataproject/October%202017%20Cohort_Virginia%20Pretrial%20Data%20Project_Deidentified%20FINAL%20Update_10272021.csv\"\n",
        "df = pd.read_csv(url, low_memory=False)\n",
        "print(df.head())\n",
        "print(df.columns,'\\n')\n",
        "print(df.columns.tolist())\n",
        "\n"
      ],
      "metadata": {
        "colab": {
          "base_uri": "https://localhost:8080/"
        },
        "id": "sfL979iGPOxJ",
        "outputId": "f21ad595-20af-4125-cef9-9c974c05105d"
      },
      "id": "sfL979iGPOxJ",
      "execution_count": null,
      "outputs": [
        {
          "output_type": "stream",
          "name": "stdout",
          "text": [
            "  InternalStudyID REQ_REC# Defendant_Sex Defendant_Race Defendant_BirthYear  \\\n",
            "0        ADI00001        1             M              W                1986   \n",
            "1        ADI00007        3             M              B                1956   \n",
            "2        ADI00008        4             M              W                1990   \n",
            "3        CDI00036        6             M              B                1989   \n",
            "4        CDI00038        7             F              W                1988   \n",
            "\n",
            "  Defendant_Age  Defendant_AgeGroup Defendant_AgeatCurrentArrest  \\\n",
            "0            31                   3                           31   \n",
            "1            60                   6                           60   \n",
            "2            27                   3                           27   \n",
            "3            27                   3                           27   \n",
            "4            28                   3                           28   \n",
            "\n",
            "   Defendant_AttorneyTypeAtCaseClosure  Defendant_IndigencyStatus  ...  \\\n",
            "0                                   99                         99  ...   \n",
            "1                                    9                          9  ...   \n",
            "2                                    9                          9  ...   \n",
            "3                                    0                          0  ...   \n",
            "4                                    0                          0  ...   \n",
            "\n",
            "  NewFelonySexualAssaultArrest_OffDate  \\\n",
            "0                                        \n",
            "1                                        \n",
            "2                                        \n",
            "3                                        \n",
            "4                                        \n",
            "\n",
            "  NewFelonySexualAssaultArrest_ArrestDate  \\\n",
            "0                                           \n",
            "1                                           \n",
            "2                                           \n",
            "3                                           \n",
            "4                                           \n",
            "\n",
            "   NewFelonySexualAssaultArrest_DaysBetweenContactEventandOffDate  \\\n",
            "0                                                                   \n",
            "1                                                                   \n",
            "2                                                                   \n",
            "3                                                                   \n",
            "4                                                                   \n",
            "\n",
            "  NewFelonySexualAssaultArrest_DaysBetweenOffDateandArrestDate  \\\n",
            "0                                                999             \n",
            "1                                                999             \n",
            "2                                                999             \n",
            "3                                                999             \n",
            "4                                                999             \n",
            "\n",
            "   NewFelonySexualAssaultArrest_DaysBetweenReleaseDateandOffDate  \\\n",
            "0                                                999               \n",
            "1                                                999               \n",
            "2                                                999               \n",
            "3                                                999               \n",
            "4                                                999               \n",
            "\n",
            "   NewFelonySexualAssaultArrest_Disposition  \\\n",
            "0                                             \n",
            "1                                             \n",
            "2                                             \n",
            "3                                             \n",
            "4                                             \n",
            "\n",
            "   Intertnalindicator_ReasonforExcludingFromFollowUpAnalysis  \\\n",
            "0                                                  4           \n",
            "1                                                  5           \n",
            "2                                                  5           \n",
            "3                                                  5           \n",
            "4                                                  0           \n",
            "\n",
            "   CriminalHistoryRecordsReturnedorCMSRecordsFoundforIndividual  \\\n",
            "0                                                  1              \n",
            "1                                                  1              \n",
            "2                                                  1              \n",
            "3                                                  1              \n",
            "4                                                  1              \n",
            "\n",
            "  DispRecordFoundforChargesinOct2017Contact_Atleast1dispfound  \\\n",
            "0                                                  0            \n",
            "1                                                  1            \n",
            "2                                                  1            \n",
            "3                                                  1            \n",
            "4                                                  1            \n",
            "\n",
            "   CrimeCommission2021ReportClassificationofDefendants  \n",
            "0  Defendant could not be classified or tracked d...    \n",
            "1  Defendant Detained Entire Pre-Trial Period_Und...    \n",
            "2  Defendant Detained Entire Pre-Trial Period_Und...    \n",
            "3  Defendant Detained Entire Pre-Trial Period_Und...    \n",
            "4  New criminal offense punishable by incarcerati...    \n",
            "\n",
            "[5 rows x 709 columns]\n",
            "Index(['InternalStudyID', 'REQ_REC#', 'Defendant_Sex', 'Defendant_Race',\n",
            "       'Defendant_BirthYear', 'Defendant_Age', 'Defendant_AgeGroup',\n",
            "       'Defendant_AgeatCurrentArrest', 'Defendant_AttorneyTypeAtCaseClosure',\n",
            "       'Defendant_IndigencyStatus',\n",
            "       ...\n",
            "       'NewFelonySexualAssaultArrest_OffDate',\n",
            "       'NewFelonySexualAssaultArrest_ArrestDate',\n",
            "       'NewFelonySexualAssaultArrest_DaysBetweenContactEventandOffDate',\n",
            "       'NewFelonySexualAssaultArrest_DaysBetweenOffDateandArrestDate',\n",
            "       'NewFelonySexualAssaultArrest_DaysBetweenReleaseDateandOffDate',\n",
            "       'NewFelonySexualAssaultArrest_Disposition',\n",
            "       'Intertnalindicator_ReasonforExcludingFromFollowUpAnalysis',\n",
            "       'CriminalHistoryRecordsReturnedorCMSRecordsFoundforIndividual',\n",
            "       'DispRecordFoundforChargesinOct2017Contact_Atleast1dispfound',\n",
            "       'CrimeCommission2021ReportClassificationofDefendants'],\n",
            "      dtype='object', length=709) \n",
            "\n",
            "['InternalStudyID', 'REQ_REC#', 'Defendant_Sex', 'Defendant_Race', 'Defendant_BirthYear', 'Defendant_Age', 'Defendant_AgeGroup', 'Defendant_AgeatCurrentArrest', 'Defendant_AttorneyTypeAtCaseClosure', 'Defendant_IndigencyStatus', 'Defendant_RecordedZipCode_eMag', 'Defendant_VirginiaResidencyStatus', 'WhetherDefendantWasReleasedPretrial', 'PretrialReleaseDate', 'DaysBetweenContactEventAndPretrialRelease', 'PretrialReleaseType1', 'PretrialReleaseType2', 'BondTypeAtInitialContact', 'BondAmountAtInitialContact', 'BondTypeAtRelease_v1', 'BondTypeatRelease_v2', 'BondAmountAtRelease', 'WhetherDefendantReceivedPretrialServicesAgencySuperv_PTCC', 'DaysBetweenReleaseandActivePretrialServicesAgencySupervDate', 'DaysBetweenPretrialServicesAgencySupervReferralDateandSupervDate', 'Indicator_PresumptiveDenialOfBail_19.2_120', 'Indicator_ConditionsToBeReleasedSecuredBond_19.2_123', 'IfReleasedonSecuredBond_TypeofSurety', 'Indicator_BailTermSetByCourt_eMag', 'AdditionalJailTimeServedAfterInitialPretrialRelease', 'Oct2017_ContactEventDate', 'ContactEventType', 'ContactEvent_OverallTypeofOffense_v1', 'ContactEvent_OverallTypeofOffense_v2', 'ContactEvent_WhetherOffensePunishablebyIncaration', 'ContactEvent_CourtType', 'NumberOffenseTypesinContactEvent', 'VCC_MostSerChargeinContactEvent_regardlessofFinalDisp', 'VCCPrefix_MostSerChargeinCharge_regardlessofFinalDisp', 'VCCClassification_MostSerChargeinCharge_regardlessofFinalDisp', 'VCC_SecondOffenseType_ifany', 'VCC_ThirdOffenseType_ifany', 'VCC_FourthOffenseType_ifany', 'VCC_FifthOffenseType_ifany', 'VCC_SixthOffenseType_ifany', 'VCC_SeventhOffenseType_ifany', 'VCC_EightOffenseType_ifany', 'VCC_NinthOffenseType_ifany', 'VCC_TenthOffenseType_ifany', 'CodeSection_MostSerChargeinContactEvent_regardlessofFinalDisp', 'CodeSection_SecondOffenseType_ifany', 'CodeSection_ThirdOffenseType_ifany', 'CodeSection_FourthOffenseType_ifany', 'CodeSection_FifthOffenseType_ifany', 'CodeSection_SixthOffenseType_ifany', 'CodeSection_SeventhOffenseType_ifany', 'CodeSection_EightOffenseType_ifany', 'CodeSection_NinthOffenseType_ifany', 'CodeSection_TenthOffenseType_ifany', 'CaseType_MostSerChargeinContactEvent_regardlessofFinalDisp', 'CaseType_SecondOffenseType_ifany', 'CaseType_ThirdOffenseType_ifany', 'CaseType_FourthOffenseType_ifany', 'CaseType_FifthOffenseType_ifany', 'CaseType_SixthOffenseType_ifany', 'CaseType_SeventhOffenseType_ifany', 'CaseType_EightOffenseType_ifany', 'CaseType_NinthOffenseType_ifany', 'CaseType_TenthOffenseType_ifany', 'OffenseCounts_MostSerChargeinContactEvent_regardlessofFinalDisp', 'OffenseCounts_SecondOffenseType_ifany', 'OffenseCounts_ThirdOffenseType_ifany', 'OffenseCounts_FourthOffenseType_ifany', 'OffenseCounts_FifthOffenseType_ifany', 'OffenseCounts_SixthOffenseType_ifany', 'OffenseCounts_SeventhOffenseType_ifany', 'OffenseCounts_EightOffenseType_ifany', 'OffenseCounts_NinthOffenseType_ifany', 'OffenseCounts_TenthOffenseType_ifany', 'CurrentCharge_FelDrugLarFraud', 'CurrentCharge_FelDrug', 'CurrentCharge_MisdDrug', 'CurrentCharge_VPRAIViolent', 'CurrentCharge_PSAViolent', 'CurrentCharge_PSAViolentAgeLT21Yrs', 'VCC_MostSerCharge_resultinginsentencing', 'VCCPrefix_MostSerCharge_resultinginsentencing', 'VCCClassification_MostSerCharge_resultinginsentencing', 'CodeSection_MostSerCharge', 'CaseType_MostSerCharge', 'MAG_BailType', 'MAG_BailAmount', 'MAG_Cond_AvoidAllContact', 'MAG_Cond_MaintainCommEduc', 'MAG_Cond_ComplywithCurfew', 'MAG_Cond_HomeElecIncar', 'MAG_Cond_AccompOfficer', 'MAG_Cond_RefrainAlcohol', 'MAG_Cond_RefrainContolSub', 'MAG_Cond_RefrainWeapon', 'MAG_Cond_MaintSeekEmp', 'MAG_Cond_SubmitDrugAlcoholScr', 'MAG_Cond_SubmitDrugAlcoholTest', 'MAG_Cond_MonitorGPS', 'PTCC_RecFound', 'PTCC_AddlRecFound', 'PTCC_ServerName', 'PTCC_RefType', 'PTCC_PretrialSupPlacement', 'PTCC_TypePlacement', 'PTCC_DateFirstActive', 'PTCC_JudicialOfficerType', 'PTCC_CourtLocality', 'PTCC_CourtType', 'PTCC_ReferralDate', 'PTCC_PlacementDate', 'PTCC_PlacementType', 'PTCC_TransferredIn', 'PTCC_CourtReinstatement', 'PTCC_BondType', 'PTCC_JudicialAction', 'PTCC_PlacementRiskLevel', 'PTCC_OrigBondType', 'PTCC_CurrBondType', 'PTCC_OrigChargeBondAmt', 'PTCC_ChargeBondAmt', 'PTCC_Screening_OrigBondType', 'PTCC_Screening_CurrBondType', 'PTCC_Screening_OrigChargeBondAmt', 'PTCC_Screening_ChargeBondAmt', 'PTCC_PlaceRiskAsmtMostSeriousChargeCat', 'PTCC_PlacementStatusatDataExtract', 'PTCC_PendingClosedInd', 'PTCC_SupervisionDys', 'PTCC_CondOrdered', 'PTCC_Cond_ReporttoPT', 'PTCC_Cond_ExcessAlcDrugs', 'PTCC_Cond_SubmitTesting', 'PTCC_Cond_RefrainFirearm', 'PTCC_Cond_NoContactVic', 'PTCC_Cond_MaintSeekEmp', 'PTCC_Cond_MaintSeekEduc', 'PTCC_Cond_ComplywithCurfew', 'PTCC_Cond_ElecMonitoring', 'PTCC_Cond_RestrictTravel', 'PTCC_ResQ_PriorMisd', 'PTCC_ResQ_PriorFel', 'PTCC_ResQ_PriorNumViolConv', 'PTCC_ResQ_PriorFTAs', 'PTCC_ResQ_PriorFTAOverTwoYrs', 'PTCC_ResQ_PriorSenttoIncar', 'PTCC_VPRAI_ActiveSupervision', 'PTCC_VPRAI_FelDrugTheftFraud', 'PTCC_VPRAI_PendingCharge', 'PTCC_VPRAI_CrimHistory', 'PTCC_VPRAI_TwoFTAs', 'PTCC_VPRAI_TwoViolConv', 'PTCC_VPRAI_EmpStatus', 'PTCC_VPRAI_LastGradeComp', 'PTCC_PraxisApplies', 'PTCC_PraxisSupLevel', 'PTCC_AssignedSupLevel', 'PTCC_SupViolation', 'PendingChargeatTimeofContactEvent_VPRAIdefinition', 'PendingChargeatTimeofContactEvent_VPRAI_FTAdefinition', 'PendingChargeatTimeofContactEvent_VPRAI_NotFTAdefinition', 'PendingChargeatTimeofContactEvent_PSAdefinition', 'AgeatFirstAdultArrest', 'PriorArrests', 'PriorArrests_Fel', 'PriorArrests_Misd', 'PriorArrests_Misd_InclNonJailable', 'PriorArrests_DomAsl', 'PriorArrests_FelProbSSVViol', 'PriorArrests_MisdProbSSVViol', 'PriorConvictions_Any', 'PriorConvs_AdultOnly', 'PriorConvs_Past2Yrs', 'PriorConvs_Past5Yrs', 'PriorConvs_Fel', 'PriorConvs_Fel_Past2Yrs', 'PriorConvs_Fel_Past5Yrs', 'PriorConvs_Misd', 'PriorConvs_Misd_Past2Yrs', 'PriorConvs_Misd_Past5Yrs', 'PriorConvs_Misd_InclNonJailable', 'PriorConvs_Misd_CrimTraf', 'PriorConvs_DomAsl', 'PriorConvs_FelProbSSVViol', 'PriorConvs_MisdProbSSVViol', 'PriorDrugConvs_NonMJDist_Fel', 'PriorDrugConvs_NonMJDist_Misd', 'PriorDrugConvs_NonMJPoss_Fel', 'PriorDrugConvs_NonMJPoss_Misd', 'PriorDrugConvs_MJDist_Fel', 'PriorDrugConvs_MJDist_Misd', 'PriorDrugConvs_MJPoss', 'PriorDrugConvs_UnkDrugDist_Fel', 'PriorDrugConvs_UnkDrugPoss_Fel', 'PriorDrugConvs_TypeNotClear_Fel', 'PriorDrugConvs_TypeNotClear_Misd', 'PriorAlcConvs', 'PriorFTACharges', 'PriorFTACharges_Past2Yrs', 'PriorFTACharges_MoreThan2Yrs', 'PriorFTAConvs', 'PriorFTAConvs_Past2Yrs', 'PriorFTAConvs_MoreThan2Yrs', 'PriorVPRAIViolArrests', 'PriorVPRAIViolArrests_Fel', 'PriorVPRAIViolArrests_Misd', 'PriorVPRAIViolArrests_DomAsl', 'PriorVPRAIViolArrests_Past2Yrs', 'PriorVPRAIViolArrests_Past5Yrs', 'PriorVPRAIViolConvs', 'PriorVPRAIViolConvs_Fel', 'PriorVPRAIViolConvs_Misd', 'PriorVPRAIViolConvs_DomAsl', 'PriorVPRAIViolConvs_Past2Yrs', 'PriorVPRAIViolConvs_Past5Yrs', 'PriorPSAViolArrests', 'PriorPSAViolArrests_Fel', 'PriorPSAViolArrests_Misd', 'PriorPSAViolArrests_DomAsl', 'PriorPSAViolArrests_Past2Yrs', 'PriorPSAViolArrests_Past5Yrs', 'PriorPSAViolConvs', 'PriorPSAViolConvs_Fel', 'PriorPSAViolConvs_Misd', 'PriorPSAViolConvs_DomAsl', 'PriorPSAViolConvs_Past2Yrs', 'PriorPSAViolConvs_Past5Yrs', 'Prior805ViolArrests', 'Prior805ViolArrests_Past2Yrs', 'Prior805ViolArrests_Past5Yrs', 'Prior805ViolConvs', 'Prior805ViolConvs_Past2Yrs', 'Prior805ViolConvs_Past5Yrs', 'Prior297ViolArrests', 'Prior297ViolArrests_Past2Yrs', 'Prior297ViolArrests_Past5Yrs', 'Prior297ViolConvs', 'Prior297ViolConvs_Past2Yrs', 'Prior297ViolConvs_Past5Yrs', 'PriorConvs_FelPerson', 'PriorConvs_FelProperty', 'PriorConvs_FelDrug', 'PriorConvs_FelOther', 'PriorConvs_Fel_SameType', 'PriorConvs_Misd_SameType', 'PriorProbRevocations_Felony', 'PriorProbRevocations_Misd', 'PriorSentEvents_Fel', 'PriorSentEvents_FelProbRevocations', 'PriorSentEvents_MisdProbRevocations', 'PriorSentEvents_FTA', 'PriorIncarEvents_GE14Dys', 'PriorIncarEvents_LT1Yr', 'PriorIncarEvents_GE1Yr', 'Defendant_WhetherOnStateProbationAtTimeofContactEvent', 'Defendant_WhetherOnLocalProbationAtTimeofContactEvent', 'VPRAI_Factor_ActiveCommSup', 'VPRAI_Factor_CurrentFelDrugLarFraud', 'VPRAI_Factor_PendingCharge', 'VPRAI_Factor_AdultCriminalConv', 'VPRAI_Factor_FTAs', 'VPRAI_Factor_ViolentConvs', 'VPRAI_Factor_Unemployed_Opt1', 'VPRAI_Factor_Unemployed_Opt2', 'VPRAI_Factor_PTUnemployment', 'VPRAI_TotalPoints_Opt1', 'VPRAI_RiskLevel_Opt1', 'VPRAI_TotalPoints_Opt2', 'VPRAI_RiskLevel_Opt2', 'VPRAI_PTPlacementRiskLevel', 'VPRAI_DifferenceinRiskLevel_Unemployed', 'PSA_FTA_Factor_PendingCharge', 'PSA_FTA_Factor_PriorConviction', 'PSA_FTA_Factor_PriorFTAPast2Yrs', 'PSA_FTA_Factor_PriorFTAMoreThan2Yrs', 'PSA_FTA_TotalPoints', 'PSA_FTA_RiskLevelScale', 'PSA_NCA_Factor_AgeatArrest', 'PSA_NCA_Factor_PendingCharge', 'PSA_NCA_Factor_PriorMisdConv', 'PSA_NCA_Factor_PriorFelConv', 'PSA_NCA_Factor_PriorViolConv', 'PSA_NCA_Factor_PriorFTAPast2Yrs', 'PSA_NCA_Factor_PriorIncar', 'PSA_NCA_TotalPoints', 'PSA_NCA_RiskLevelScale', 'PSA_NVCA_Factor_CurrentViolOff', 'PSA_NVCA_Factor_CurrentViolOff20orYounger', 'PSA_NVCA_Factor_PendingCharge', 'PSA_NVCA_Factor_PriorConviction', 'PSA_NVCA_Factor_PriorViolConv', 'PSA_NVCA_TotalPoints', 'PSA_NVCA_WhetherAssignedFlag', 'Locality_FIPS', 'Locality_Name', 'Locality_Region', 'Locality_JudicialCircuit', 'Locality_JudicialDistrict', 'Locality_MagisterialRegion', 'Locality_PublicDefenderOfficePresence', 'Locality_PretrialServicesAgencyPresence', 'TotalPopulationEstimate_2017_Census', 'Populationdensity_persquaremile_2010Census', 'UnemploymentRate_October2017_BureauofLaborStatistics', 'TotalSwornLawEnforcementOfficers_2017_VSPCrimeinVirginia', 'GiniIndex', 'WhiteAlone_PopulationEstimate_2017_Census', 'WhiteAlonePercentage_PopulationEstimate_2017_Census', 'AfricanAmericanAlone_PopulationEstimate_2017_Census', 'AfricanAmericanAlonepercentage_PopulationEstimate_2017', 'AsianAlone_PopulationEstimate_2017_Census', 'AsianAlonepercentage_PopulationEstimate_2017_Census', 'OtherRacesAlone_PopulationEstimate_2017_Census', 'OtherRacesAlonepercentge_PopulationEstimate_2017_Census', 'Twoormoreraces_PopulationEstimate_2017_Census', 'Twoormoreracespercentage_PopulationEstimate_2017_Census', 'HispanicOrigin_PopulationEstimate_2017_Census', 'BothSexes_MedianAge_2017Census', 'Male_MedianAge_2017Census', 'Female_MedianAge_2017Census', 'TotalMalePopulationEstimate_2017_Census', 'Under5years_Malepopulation_2017Census', '@5to9years_Malepopulation_2017Census', '@10to14years_Malepopulation_2017Census', '@15to19years_Malepopulation_2017Census', '@20to24years_Malepopulation_2017Census', '@25to29years_Malepopulation_2017Census', '@30to34years_Malepopulation_2017Census', '@35to39years_Malepopulation_2017Census', '@40to44years_Malepopulation_2017Census', '@45to49years_Malepopulation_2017Census', '@50to54years_Malepopulation_2017Census', '@55to59years_Malepopulation_2017Census', '@60to64years_Malepopulation_2017Census', '@65to69years_Malepopulation_2017Census', '@70to74years_Malepopulation_2017Census', '@75to79_Malepopulation_2017Census', '@80to84years_Malepopulation_2017Census', '@85yearsandover_Malepopulation_2017Census', 'Under18years_Malepopulation_2017Census', '@18to64years_Malepopulation_2017Census', '@65yearsandover_Malepopulation_2017Census', '@18yearsandover_Malepopulation_2017Census', 'TotalFemalePopulationEstimate_2017Census', 'Under5years_Femalepopulation_2017Census', '@5to9years_Femalepopulation_2017Census', '@10to14years_Femalepopulation_2017Census', '@15to19years_Femalepopulation_2017Census', '@20to24years_Femalepopulation_2017Census', '@25to29years_Femalepopulation_2017Census', '@30to34years_Femalepopulation_2017Census', '@35to39years_Femalepopulation_2017Census', '@40to44years_Femalepopulation_2017Census', '@45to49years_Femalepopulation_2017Census', '@50to54years_Femalepopulation_2017Census', '@55to59years_Femalepopulation_2017Census', '@60to64years_Femalepopulation_2017Census', '@65to69years_Femalepopulation_2017Census', '@70to74years_Femalepopulation_2017Census', '@75to79years_Femalepopulation_2017Census', '@80to84years_Femalepopulation_2017Census', '@85yearsandover_Femalepopulation_2017Census', 'Under18years_Femalepopulation_2017Census', '@18to64years_Femalepopulation_2017Census', '@65yearsandover_Femalepopulation_2017Census', '@18yearsandover_Femalepopulation_2017Census', 'TotalMALEANDFEMALEPopulation_2017Census', 'Under5years_TotalPopulation_2017Census', '@5to9years_TotalPopulation_2017Census', '@10to14years_TotalPopulation_2017Census', '@15to19years_TotalPopulation_2017Census', '@20to24years_TotalPopulation_2017Census', '@25to29years_TotalPopulation_2017Census', '@30to34years_TotalPopulation_2017Census', '@35to39years_TotalPopulation_2017Census', '@40to44years_TotalPopulation_2017Census', '@45to49years_TotalPopulation_2017Census', '@50to54years_TotalPopulation_2017Census', '@55to59years_TotalPopulation_2017Census', '@60to64years_TotalPopulation_2017Census', '@65to69years_TotalPopulation_2017Census', '@70to74years_TotalPopulation_2017Census', '@75to79years_TotalPopulation_2017Census', '@80to84years_TotalPopulation_2017Census', '@85yearsandover_TotalPopulation_2017Census', 'Under18years_TotalPopulation_2017Census', '@18to64years_TotalPopulation_2017Census', '@65yearsandover_TotalPopulation_2017Census', '@18yearsandover_TotalPopulation_2017Census', 'Totalhouseholds_occupied_2017Census_A', 'Percenthighschoolgraduateorhigher_2017Census', 'Percentbachelorsdegreeorhigher_2017Census', 'TotalCivilianNoninstitutionalizedPopulation_2017Census', 'TotalCivilianNoninstitutionalizedPopulation_Withadisability', 'PercentofTotalCivilianNoninstitutionalizedPopulation_Witha', 'Estimate_RESIDENCE1YEARAGO_Population1yearandover_2017Ce', 'EstimateRESIDENCE1YEARAGO_Population1yearandover_Sameh', 'Percent_RESIDENCE1YEARAGO_Population1yearandover_Samehou', 'Totalpopulation_Native_2017Census', 'PercentTotalpopulation_Native_2017Census', 'Totalpopulation_Foreignborn_2017Census', 'PercentTotalpopulation_Foreignborn_2017Census', 'Foreignbornpopulation_2017Census', 'Foreignbornpopulation_NaturalizedU.S.citizen_2017Census', 'PercentForeignbornpopulation_NaturalizedU.S.citizen_2017Cen', 'Foreignbornpopulation_NotaU.S.citizen_2017Census', 'PercentForeignbornpopulation_NotaU.S.citizen_2017Census', 'Population5yearsandover_2017Census', 'Population5yearsandover_Englishonly_2017Census', 'PercentPopulation5yearsandover_Englishonly_2017Census', 'Totalhouseholds_Withacomputer_2017Census', 'PercentTotalhouseholds_Withacomputer_2017Census', 'Totalhouseholds_WithabroadbandInternetsubscription_2017Cen', 'PercentTotalhouseholds_WithabroadbandInternetsubscription', 'Totalhousingunits_2017Census', 'Totaloccupiedhousingunits_2017Census', 'Occupiedhousingunits_2017Census', 'TotalVacantHousingUnits_2017Census', 'Percentvacanthousingunits_2017Census', 'TotalHomeowndervacanyrate_2017Census', 'Totalrentalvacanyrate_2017Census', 'TotalOwneroccupiedhousingunits_2017Census', 'Percentowneroccupiedhousingunits_2017Census', 'Totalrenteroccupiedhousingunits_2017Census', 'Percentrenteroccupiedhousingunits_2017Census', 'Percentpopulationhighschoolgraduateorhigher_2017Census', 'Percentpopulationbachelorsdegreeorhigher_2017Census', 'Totalhouseholds_occupied_2017Census', 'Totalhouseholds_Lessthan$10000inincome_2017Census', 'PercentTotalhouseholds_Lessthan$10000inincome_2017Census', 'Totalhouseholds$10000to$14999inincome_2017Census', 'PercentTotalhouseholds$10000to$14999inincome_2017Censu', 'Totalhouseholds$15000to$24999inincome_2017Census', 'PercentTotalhouseholds$15000to$24999inincome_2017Censu', 'Totalhouseholds$25000to$34999inincome_2017Census', 'PercentTotalhouseholds$25000to$34999inincome_2017Censu', 'Totalhouseholds$35000to$49999inincome_2017Census', 'PercentTotalhouseholds$35000to$49999inincome_2017Censu', 'Totalhouseholds$50000to$74999inincome_2017Census', 'PercentTotalhouseholds$50000to$74999inincome_2017Censu', 'Totalhouseholds$75000to$99999inincome_2017Census', 'PercentTotalhouseholds$75000to$99999inincome_2017Censu', 'Totalhouseholds$100000to$149999inincome_2017Census', 'PercentTotalhouseholds$100000to$149999inincome_2017Cen', 'Totalhouseholds$150000to$199999inincome_2017Census', 'PercentTotalhouseholds$150000to$199999inincome_2017Cen', 'Totalhouseholds$200000ormoreinincome_2017Census', 'PercentTotalhouseholds$200000ormoreinincome_2017Census', 'TotalhouseholdsMedianhouseholdincomeindollars_2017Census', 'TotalhouseholdsMeanhouseholdincomeindollars_2017Census', 'TotalWithcashpublicassistanceincome_2017Census', 'PercentWithcashpublicassistanceincome_2017Census', 'Meancashpublicassistanceincomeindollars_2017Census', 'TotalWithFoodStamp_SNAPbenefitsinthepast12months_2017C', 'PercentWithFoodStamp_SNAPbenefitsinthepast12months_2017', 'Families_Medianfamilyincomeindollars_2017Census', 'Families_Meanfamilyincomeindollars_2017Census', 'Percapitaincomeindollars_2017Census', 'Medianearningsforworkersindollars_2017Census', 'TotalCiviliannoninstitutionalizedpopulation_Nohealthinsura', 'PercentCiviliannoninstitutionalizedpopulation_Nohealthinsur', 'TotalCiviliannoninstitutionalizedpopulation19to64yearsIn', 'PercentCiviliannoninstitutionalizedpopulation19to64years_A', 'TotalCiviliannoninstitutionalizedpopulation19to64yearsNo', 'PercentCiviliannoninstitutionalizedpopulation19to64years', 'PERCENTAGEOFFAMILIESANDPEOPLEWHOSEINCOMEINTHEPAST12MO_D', 'PERCENTAGEOFFAMILIESANDPEOPLEWHOSEINCOMEINTHEPAST12MO_C', 'PERCENTAGEOFFAMILIESANDPEOPLEWHOSEINCOMEINTHEPAST12MO_B', 'PERCENTAGEOFFAMILIESANDPEOPLEWHOSEINCOMEINTHEPAST12MO_A', 'PERCENTAGEOFFAMILIESANDPEOPLEWHOSEINCOMEINTHEPAST12MO', 'Population_VSP2017Report', 'Incidentrateper1000population_VSP2017Report', 'TotalIncidentsReportedinLocality_VSP2017Report', 'MurderNonnegligentManslaughter_TotalReportedOffenses_VSP201', 'KidnappingAbduction_TotalReportedOffenses_VSP2017Report', 'RapeTotalReportedOffenses_VSP2017Report', 'OtherForcibleSexOffenses_TotalReportedOffenses_VSP2017Rep', 'RobberyTotalReportedOffenses_VSP2017Report', 'Agg.Assault_TotalReportedOffenses_VSP2017Report', 'SimpleAssaultIntimidation_TotalReportedOffenses_VSP2017Rep', 'ArsonTotalReportedOffenses_VSP2017Report', 'ExtortionBlackmailTotalReportedOffenses_VSP2017Report', 'BurglaryTotalReportedOffenses_VSP2017Report', 'Larceny_TotalReportedOffenses_VSP2017Report', 'MotorVehicleTheftTotalReportedOffenses_VSP2017Report', 'Counterfeiting_ForgeryTotalReportedOffenses_VSP2017Report', 'Fraud_TotalReportedOffenses_VSP2017Report', 'EmbezzlementTotalReportedOffenses_VSP2017Report', 'StolenPropertyTotalReportedOffenses_VSP2017Report', 'Destruction_VandalismTotalReportedOffenses_VSP2017Report', 'Drug_NarcoticsTotalReportedOffenses_VSP2017Report', 'NonForcibleSexOffensesTotalReportedOffenses_VSP2017Report', 'PornographyTotalReportedOffenses_VSP2017Report', 'GamblingTotalReportedOffenses_VSP2017Report', 'ProstitutionTotalReportedOffenses_VSP2017Report', 'BriberyTotalReportedOffenses_VSP2017Report', 'WeaponsLawViolationTotalReportedOffenses_VSP2017Report', 'TotalCrimesAgainstthePerson_ReportedOffenses_VSP2017Repor', 'TotalCrimesAgainstProperty_OffensesReported_VSP2017Report', 'TotalCrimesAgainstSociety_OffensesReported_VSP2017Report', 'ViolentCrime_OffensesReported_VSPDefinition_VSP2017Report', 'PropertyCime_OffensesReported_VSPDefinition_VSP2017Report', 'MurderNonnegligentManslaughterADULTArrests_VSP2017Report', 'Kidnapping_AbductionArrestsADULTArrests_VSP2017Report', 'RapeADULTArrests_VSP2017Report', 'OtherForcibleSexoffensesADULTArrests_VSP2017Report', 'RobberyADULTArrests_VSP2017Report', 'AggravatedAssaultADULTArrests_VSP2017Report', 'SimpleAssault_IntimidationADULTArrests_VSP2017Report', 'ArsonADULTArrests_VSP2017Report', 'Extortion_BlackmailADULTArrests_VSP2017Report', 'BurglaryADULTArrests_VSP2017Report', 'LarcenyADULTArrests_VSP2017Report', 'MotorVehicleTheftADULTArrests_VSP2017Report', 'Counterfeiting_ForgeryADULTArrests_VSP2017Report', 'FraudADULTArrests_VSP2017Report', 'EmbezzlementADULTArrests_VSP2017Report', 'StolenPropertyADULTArrests_VSP2017Report', 'Destruction_VandalismADULTArrests_VSP2017Report', 'Drug_NarcoticsADULTArrests_VSP2017Report', 'NonForcibleSexOffensesADULTArrests_VSP2017Report', 'PornographyADULTArrests_VSP2017Report', 'GamblingADULTArrests_VSP2017Report', 'ProstitutionADULTArrests_VSP2017Report', 'BriberyADULTArrests_VSP2017Report', 'WeaponslawviolationsADULTArrests_VSP2017Report', 'TotalGroupAADULTArrests_VSP2017Report', 'BadchecksADULTArrests_VSP2017Report', 'Curfew_Loitering_VagrancyViolationsADULTArrests_VSP2017Repo', 'DisorderlyConductADULTArrests_VSP2017Report', 'DUIADULTArrests_VSP2017Report', 'Drunkenness_DIP_ADULTArrests_VSP2017Report', 'FamilyOffenses_NonviolentADULTArrests_VSP2017Report', 'LiquorLawViolationsADULTArrests_VSP2017Report', 'PeepingTomADULTArrests_VSP2017Report', 'RunawayADULTArrests_VSP2017Report', 'TrespassofRealPropertyADULTArrests_VSP2017Report', 'ConspiracytoCommitADULTArrests_VSP2017Report', 'AllOtherOffensesADULTArrests_VSP2017Report', 'TotalGroupBArrestsADULTArrests_VSP2017Report', 'GrandTotalADULTArrests_VSP2017Report', 'FinalDispositionAllCharges_v1', 'FinalDispositionAllCharges_v2', 'FinalDispositionDateAllChargesInContactEvent', 'DaysBetweenReleaseandFinalDispositionDate', 'SentenceTypeAllChargesAtConvictionInContactEvent', 'ImposedSentenceAllChargeInContactEvent', 'EffectiveSentenceAllChargesInContactEvent', 'DispositionDate_MostSeriousChargeInContactEvent', 'VCC_MostSeriousConvictioninContactEvent', 'VCCPrefix_MostSeriousConvictioninContactEvent', 'VCCClassification_MostSeriousConvictioninContactEvent', 'CodeSection_MostSeriousConvictioninContactEvent', 'CaseType_MostSeriousConvictioninContactEvent', 'Description_MostSeriousConvictioninContactEvent', 'SentenceTypeMostSeriousConvictionInContactEvent', 'ImposedSentenceMostSeriousConvictionInContactEvent', 'EffectiveSentenceMostSeriousConvictionInContactEvent', 'FollowUp_ChargedWithNewFTA', 'NewFTA_VCC', 'NewFTA_Type', 'NewFTA_OffDate', 'NewFTA_ArrestDate', 'NewFTA_DaysBetweenContactEventAndOffDate', 'NewFTA_DaysBetweenOffDateAndArrestDate', 'NewFTA_DaysBetweenReleaseDateAndOffDate', 'NewFTA_Disposition', 'FollowUp_ArrestedforNewOff', 'NewArrest_VCC', 'NewArrest_VCCPrefix', 'NewArrest_VCCClassification', 'NewArrest_Type', 'NewArrest_OffDate', 'NewArrest_ArrestDate', 'NewArrest_DaysBetweenContactEventandOffDate', 'NewArrest_DaysBetweenOffDateAndArrestDate', 'NewArrest_DaysBetweenReleaseDateAndOffDate', 'NewArrest_Disposition', 'FollowUp_ArrestedForNewOffPunishableByIncarceration', 'NewArrestPunishableByIncarceration_VCC', 'NewArrestPunishableByIncarceration_VCCPrefix', 'NewArrestPunishableByIncarceration_VCCClassification', 'NewArrestPunishableByIncarceration_Type', 'NewArrestPunishableByIncarceration_OffDate', 'NewArrestPunishableByIncarceration_ArrestDate', 'NewArrestPunishableByIncar_DaysBetweenContactEventandOffDate', 'NewArrestPunishableByIncar_DaysBetweenOffDateAndArrestDate', 'NewArrestPunishableByIncar_DaysBetweenReleaseDateAndOffDate', 'NewArrestPunishableByIncarceration_Disposition', 'FollowUp_NewFelonyArrest', 'NewFelonyArrest_VCC', 'NewFelonyArrest_VCCPrefix', 'NewFelonyArrest_VCCClassification', 'NewFelonyArrest_Type', 'NewFelonyArrest_OffDate', 'NewFelonyArrest_ArrestDate', 'NewFelonyArrest_DaysBetweenContactEventandOffDate', 'NewFelonyArrest_DaysBetweenOffDateAndArrestDate', 'NewFelonyArrest_DaysBetweenReleaseDateAndOffDate', 'NewFelonyArrest_Disposition', 'FollowUp_NewMisdemeanorArrestPunishableByIncarceration', 'NewMisdArrestPunishableByIncarceration_VCC', 'NewMisdArrestPunishableByIncarceration_VCCPrefix', 'NewMisdArrestPunishableByIncarceration_VCCClassification', 'NewMisdArrestPunishableByIncarceration_Type', 'NewMisdArrestPunishableByIncarceration_OffDate', 'NewMisdArrestPunishableByIncarceration_ArrestDate', 'NewMisdArrestPunishableByIncar_DaysBetweenContactEventandOffDate', 'NewMisdArrestPunishableByIncar_DaysBetweenOffDateAndArrestDate', 'NewMisdArrestPunishableByIncar_DaysBetweenReleaseDateAndOffDate', 'NewMisdArrestPunishableByIncar_Disposition', 'FollowUp_NewVPRAIViolentArrest', 'NewVPRAIViolentArrest_VCC', 'NewVPRAIViolentArrest_VCCPrefix', 'NewVPRAIViolentArrest_VCCClassification', 'NewVPRAIViolentArrest_Type', 'NewVPRAIViolentArrest_OffDate', 'NewVPRAIViolentArrest_ArrestDate', 'NewVPRAIViolentArrest_DaysBetweenContactEventandOffDate', 'NewVPRAIViolentArrest_DaysBetweenOffDateandArrestDate', 'NewVPRAIViolentArrest_DaysBetweenReleaseDateandOffDate', 'NewVPRAIViolentArrest_Disposition', 'FollowUp_NewVPRAIViolentFelonyArrest', 'NewVPRAIViolentFelonyArrest_VCC', 'NewVPRAIViolentFelonyArrest_Type', 'NewVPRAIViolentFelonyArrest_OffDate', 'NewVPRAIViolentFelonyArrest_ArrestDate', 'NewVPRAIViolentFelonyArrest_DaysBetweenContactEventandOffDate', 'NewVPRAIViolentFelonyArrest_DaysBetweenOffDateandArrestDate', 'NewVPRAIViolentFelonyArrest_DaysBetweenReleaseDateandOffDate', 'NewVPRAIViolentFelonyArrest_Disposition', 'FollowUp_NewVPRAIViolentMisdemeanorArrest', 'NewVPRAIViolentMisdArrest_VCC', 'NewVPRAIViolentMisdArrest_Type', 'NewVPRAIViolentMisdArrest_OffDate', 'NewVPRAIViolentMisdArrest_ArrestDate', 'NewVPRAIViolentMisdArrest_DaysBetweenContactEventandOffDate', 'NewVPRAIViolentMisdArrest_DaysBetweenOffDateandArrestDate', 'NewVPRAIViolentMisdArrest_DaysBetweenReleaseDateandOffDate', 'NewVPRAIViolentMisdArrest_Disposition', 'FollowUp_NewPSAViolentArrest', 'NewPSAViolentArrest_VCC', 'NewPSAViolentArrest_VCCPrefix', 'NewPSAViolentArrest_VCCClassification', 'NewPSAViolentArrest_Type', 'NewPSAViolentArrest_OffDate', 'NewPSAViolentArrest_ArrestDate', 'NewPSAViolentArrest_DaysBetweenContactEventandOffDate', 'NewPSAViolentArrest_DaysBetweenOffDateandArrestDate', 'NewPSAViolentArrest_DaysBetweenReleaseDateandOffDate', 'NewPSAViolentArrest_Disposition', 'FollowUp_NewPSAViolentFelonyArrest', 'NewPSAViolentFelonyArrest_VCC', 'NewPSAViolentFelonyArrest_Type', 'NewPSAViolentFelonyArrest_OffDate', 'NewPSAViolentFelonyArrest_ArrestDate', 'NewPSAViolentFelonyArrest_DaysBetweenContactEventandOffDate', 'NewPSAViolentFelonyArrest_DaysBetweenOffDateandArrestDate', 'NewPSAViolentFelonyArrest_DaysBetweenReleaseDateandOffDate', 'NewPSAViolentFelonyArrest_Disposition', 'FollowUp_NewPSAViolentMisdemeanorArrest', 'NewPSAViolentMisdArrest_VCC', 'NewPSAViolentMisdArrest_Type', 'NewPSAViolentMisdArrest_OffDate', 'NewPSAViolentMisdArrest_ArrestDate', 'NewPSAViolentMisdArrest_DaysBetweenContactEventandOffDate', 'NewPSAViolentMisdArrest_DaysBetweenOffDateandArrestDate', 'NewPSAViolentMisdArrest_DaysBetweenReleaseDateandOffDate', 'NewPSAViolentMisdArrest_Disposition', 'FollowUp_NewVaCode805ViolentOff', 'NewVaCode805ViolentOff_VCC', 'NewVaCode805ViolentOff_VCCPrefix', 'NewVaCode805ViolentOff_VCCClassification', 'NewVaCode805ViolentOff_Type', 'NewVaCode805ViolentOff_OffDate', 'NewVaCode805ViolentOff_ArrestDate', 'NewVaCode805ViolentOff_DaysBetweenContactEventandOffDate', 'NewVaCode805ViolentOff_DaysBetweenOffDateandArrestDate', 'NewVaCode805ViolentOff_DaysBetweenReleaseDateandOffDate', 'NewVaCode805ViolentOff_Disposition', 'FollowUp_NewVaCode297ViolentOff', 'NewVaCode297ViolentOff_VCC', 'NewVaCode297ViolentOff_VCCPrefix', 'NewVaCode297ViolentOff_VCCClassification', 'NewVaCode297ViolentOff_Type', 'NewVaCode297ViolentOff_OffDate', 'NewVaCode297ViolentOff_ArrestDate', 'NewVaCode297ViolentOff_DaysBetweenContactEventandOffDate', 'NewVaCode297ViolentOff_DaysBetweenOffDateandArrestDate', 'NewVaCode297ViolentOff_DaysBetweenReleaseDateandOffDate', 'NewVaCode297ViolentOff_Disposition', 'FollowUp_NewFelonySexualAssaultArrest', 'NewFelonySexualAssaultArrest_VCC', 'NewFelonySexualAssaultArrest_Type', 'NewFelonySexualAssaultArrest_OffDate', 'NewFelonySexualAssaultArrest_ArrestDate', 'NewFelonySexualAssaultArrest_DaysBetweenContactEventandOffDate', 'NewFelonySexualAssaultArrest_DaysBetweenOffDateandArrestDate', 'NewFelonySexualAssaultArrest_DaysBetweenReleaseDateandOffDate', 'NewFelonySexualAssaultArrest_Disposition', 'Intertnalindicator_ReasonforExcludingFromFollowUpAnalysis', 'CriminalHistoryRecordsReturnedorCMSRecordsFoundforIndividual', 'DispRecordFoundforChargesinOct2017Contact_Atleast1dispfound', 'CrimeCommission2021ReportClassificationofDefendants']\n"
          ]
        }
      ]
    },
    {
      "cell_type": "code",
      "source": [
        "release = df['WhetherDefendantWasReleasedPretrial'] #select this variable and store it to release\n",
        "print(release.unique(),'\\n') #list all unique values of the variable\n",
        "#I got [9 0 1]: it shows that '9' is unclear\n",
        "print(release.value_counts(),'\\n')\n",
        "release = release.replace(9,np.nan) #clear the 9, replace 9 with NaN\n",
        "print(release.value_counts(),'\\n')#double check\n",
        "sum(release.isnull()) #count the number of NaNs to see how many 9s were correctly replaced.\n",
        "df['WhetherDefendantWasReleasedPretrial'] = release # Replace data column with cleaned values\n",
        "del release\n",
        "\n",
        "\n"
      ],
      "metadata": {
        "colab": {
          "base_uri": "https://localhost:8080/"
        },
        "id": "GXWL6IGia1I-",
        "outputId": "3856d06b-6dd5-4115-cff5-b4b6239a14ca"
      },
      "id": "GXWL6IGia1I-",
      "execution_count": null,
      "outputs": [
        {
          "output_type": "stream",
          "name": "stdout",
          "text": [
            "[9 0 1] \n",
            "\n",
            "WhetherDefendantWasReleasedPretrial\n",
            "1    19154\n",
            "0     3801\n",
            "9       31\n",
            "Name: count, dtype: int64 \n",
            "\n",
            "WhetherDefendantWasReleasedPretrial\n",
            "1.0    19154\n",
            "0.0     3801\n",
            "Name: count, dtype: int64 \n",
            "\n"
          ]
        }
      ]
    },
    {
      "cell_type": "markdown",
      "source": [
        "4.Missing values, not at random: For the pretrial data covered in the lecture, clean the ImposedSentenceAllChargeInContactEvent variable as well as you can, and explain the choices you make. (Hint: Look at the SentenceTypeAllChargesAtConvictionInContactEvent variable.)"
      ],
      "metadata": {
        "id": "uWHEVj6recKu"
      },
      "id": "uWHEVj6recKu"
    },
    {
      "cell_type": "code",
      "source": [
        "#Select relevant variables from the dataset\n",
        "sentence_length = df['ImposedSentenceAllChargeInContactEvent']\n",
        "sentence_type = df['SentenceTypeAllChargesAtConvictionInContactEvent']\n",
        "\n",
        "# Convert the sentence length to numeric, forcing errors to NAN\n",
        "#It may contain non-numeric characters (such as spaces，comma....)\n",
        "sentence_length = pd.to_numeric(sentence_length, errors='coerce')\n",
        "#Create a missing dummy:\n",
        "missing_length = sentence_length.isnull()\n",
        "print( np.sum(missing_length),'\\n')# The missing values are 9053 (that's too much)\n",
        "\n",
        "#Cross-tabulation of missing values and sentence type\n",
        "print(pd.crosstab(missing_length, sentence_type), \"\\n\")\n",
        "\n",
        "#Replace sentence length with 0 when sentence type == 4 (charges dismissed)\n",
        "sentence_length.loc[sentence_type == 4] = 0  # Case dismissed → 0 sentence\n",
        "\n",
        "# Replace sentence length with NaN when sentence type == 9 (unknown cases)\n",
        "sentence_length.loc[sentence_type == 9] = np.nan  # Unknown cases → NaN\n",
        "\n",
        "# Recalculate missing values\n",
        "df['ImposedSentenceAllChargeInContactEvent'] = sentence_length\n",
        "new_missing_length = df['ImposedSentenceAllChargeInContactEvent'].isnull()\n",
        "\n",
        "print(pd.crosstab(new_missing_length, df['SentenceTypeAllChargesAtConvictionInContactEvent']), \"\\n\")\n",
        "\n",
        "# update, after cleaning, only 274 are missing values\n",
        "df['ImposedSentenceAllChargeInContactEvent'] = sentence_length\n",
        "del sentence_length, sentence_type\n",
        "\n",
        "\n",
        "\n",
        "\n"
      ],
      "metadata": {
        "colab": {
          "base_uri": "https://localhost:8080/"
        },
        "id": "2FyyucmRehUE",
        "outputId": "dc5d6749-af06-4239-cc9a-575e240d2859"
      },
      "id": "2FyyucmRehUE",
      "execution_count": null,
      "outputs": [
        {
          "output_type": "stream",
          "name": "stdout",
          "text": [
            "274 \n",
            "\n",
            "SentenceTypeAllChargesAtConvictionInContactEvent     0     1    2     4    9\n",
            "ImposedSentenceAllChargeInContactEvent                                      \n",
            "False                                             8720  4299  914  8779    0\n",
            "True                                                 0     0    0     0  274 \n",
            "\n",
            "SentenceTypeAllChargesAtConvictionInContactEvent     0     1    2     4    9\n",
            "ImposedSentenceAllChargeInContactEvent                                      \n",
            "False                                             8720  4299  914  8779    0\n",
            "True                                                 0     0    0     0  274 \n",
            "\n"
          ]
        }
      ]
    },
    {
      "cell_type": "markdown",
      "id": "5a60a44e",
      "metadata": {
        "id": "5a60a44e"
      },
      "source": [
        "**Q2.** Go to https://sharkattackfile.net/ and download their dataset on shark attacks.\n",
        "\n",
        "1. Open the shark attack file using Pandas. It is probably not a csv file, so `read_csv` won't work.\n",
        "2. Drop any columns that do not contain data.\n",
        "3. Clean the year variable. Describe the range of values you see. Filter the rows to focus on attacks since 1940. Are attacks increasing, decreasing, or remaining constant over time?\n",
        "4. Clean the Age variable and make a histogram of the ages of the victims.\n",
        "5. What proportion of victims are male?\n",
        "6. Clean the `Type` variable so it only takes three values: Provoked and Unprovoked and Unknown. What proportion of attacks are unprovoked?\n",
        "7. Clean the `Fatal Y/N` variable so it only takes three values: Y, N, and Unknown.\n",
        "8. Are sharks more likely to launch unprovoked attacks on men or women? Is the attack more or less likely to be fatal when the attack is provoked or unprovoked? Is it more or less likely to be fatal when the victim is male or female? How do you feel about sharks?\n",
        "9. What proportion of attacks appear to be by white sharks? (Hint: `str.split()` makes a vector of text values into a list of lists, split by spaces.)"
      ]
    },
    {
      "cell_type": "code",
      "source": [
        "import pandas as pd\n",
        "import numpy as np\n",
        "import seaborn as sns\n",
        "\n",
        "df = pd.read_excel(\"/content/shark_attacks.xls\") # I uploaded this excel to my assignment section in Github\n",
        "\n",
        "print(df.head())\n",
        "\n",
        "\n",
        "\n",
        "\n"
      ],
      "metadata": {
        "colab": {
          "base_uri": "https://localhost:8080/"
        },
        "id": "xWplZbfvkh4b",
        "outputId": "e76ce411-0cc3-42ab-bede-3e668b253798"
      },
      "id": "xWplZbfvkh4b",
      "execution_count": 39,
      "outputs": [
        {
          "output_type": "stream",
          "name": "stdout",
          "text": [
            "                  Date    Year        Type        Country              State  \\\n",
            "0  2025-01-23 00:00:00  2025.0  Unprovoked      Australia  Western Australia   \n",
            "1  2025-01-22 00:00:00  2025.0  Unprovoked      Australia  Western Australia   \n",
            "2  2025-01-11 00:00:00  2025.0    Provoked            USA             Hawaii   \n",
            "3  2025-01-02 00:00:00  2025.0  Unprovoked  New Caledonia       Grande Terre   \n",
            "4  2025-01-02 00:00:00  2025.0  Unprovoked      Australia    South Australia   \n",
            "\n",
            "                                  Location      Activity  \\\n",
            "0                           Shipwreck Cove       Bathing   \n",
            "1                           Cheynes beach        Surfing   \n",
            "2            Off Haleiwa Boat Harbour Oahu        Diving   \n",
            "3              Islet of Kendek near Koumac  Spearfishing   \n",
            "4  Granites Beach near Westall Streaky Bay       Surfing   \n",
            "\n",
            "                                     Name Sex Age  ...  \\\n",
            "0                                    Boy    M  12  ...   \n",
            "1                             Dale Kittow   M  37  ...   \n",
            "2  Male not stated was a dive tour worker   M  23  ...   \n",
            "3                        Robert Cuewapuru   M  40  ...   \n",
            "4                           Lance Appleby   M  28  ...   \n",
            "\n",
            "                                 Species   \\\n",
            "0                              Not stated   \n",
            "1                           Bronze whaler   \n",
            "2                              Not stated   \n",
            "3          Reportedly Tiger or Bull shark   \n",
            "4  Great White Shart estimated 4.8m 16 ft   \n",
            "\n",
            "                                              Source  pdf href formula href  \\\n",
            "0                                     Bob Myatt GSAF  NaN          NaN  NaN   \n",
            "1                                     Bob Myatt GSAF  NaN          NaN  NaN   \n",
            "2                  Kevin McMurray Trackingsharks.com  NaN          NaN  NaN   \n",
            "3                      Johannes Marchand Todd Smith   NaN          NaN  NaN   \n",
            "4  Glen Folkard: Simon De Marchi News.com.au: The...  NaN          NaN  NaN   \n",
            "\n",
            "  Case Number Case Number.1 original order Unnamed: 21 Unnamed: 22  \n",
            "0         NaN           NaN            NaN         NaN         NaN  \n",
            "1         NaN           NaN            NaN         NaN         NaN  \n",
            "2         NaN           NaN            NaN         NaN         NaN  \n",
            "3         NaN           NaN            NaN         NaN         NaN  \n",
            "4         NaN           NaN            NaN         NaN         NaN  \n",
            "\n",
            "[5 rows x 23 columns]\n"
          ]
        }
      ]
    },
    {
      "cell_type": "markdown",
      "source": [
        "2. Drop any columns that do not contain data."
      ],
      "metadata": {
        "id": "ICvMeRz0v4J8"
      },
      "id": "ICvMeRz0v4J8"
    },
    {
      "cell_type": "code",
      "source": [
        "# create an empty list to store columns that are completely empty (all NaN values)\n",
        "empty_columns = []\n",
        "\n",
        "# loop through all columns in the dataframe\n",
        "for col in df.columns:\n",
        "    # count the number of missing (NaN) values in the column\n",
        "    missing_count = df[col].isnull().sum()\n",
        "\n",
        "    # check if the entire column is missing (i.e., all values are NaN)\n",
        "    if missing_count == len(df):\n",
        "        # if the column is completely empty, add it to the empty_columns list\n",
        "        empty_columns.append(col)\n",
        "\n",
        "# use df.drop() to remove the identified empty columns\n",
        "df = df.drop(empty_columns, axis=1)"
      ],
      "metadata": {
        "id": "EJwyoNvAukIf"
      },
      "id": "EJwyoNvAukIf",
      "execution_count": 4,
      "outputs": []
    },
    {
      "cell_type": "markdown",
      "source": [
        "3. Clean the year variable. Describe the range of values you see. Filter the rows to focus on attacks since 1940. Are attacks increasing, decreasing, or remaining constant over time?"
      ],
      "metadata": {
        "id": "cXjWCZ3Nv6TH"
      },
      "id": "cXjWCZ3Nv6TH"
    },
    {
      "cell_type": "code",
      "source": [
        "df['Year'] = df['Year'].astype(str).str.strip()\n",
        "#print(df['Year'].head())\n",
        "#print(df['Year'].dtype)\n",
        "#My \"Year\" column is of type float64, indicating that it is a floating-point number (not a string).\n",
        "#I converted it to an integer to remove the decimal point\n",
        "\n",
        "\n",
        "print(df['Year'].unique())\n",
        "df['Year'] = pd.to_numeric(df['Year'], errors='coerce') # clean data\n",
        "df = df[df['Year'] >= 1940] # only need attacks since 1940\n",
        "\n",
        "attack_counts = df['Year'].value_counts().sort_index()  # Count and sort by year\n",
        "print(attack_counts) # I cannot get full data in this step, so i choose for loop in following step\n",
        "\n",
        "for year, count in attack_counts.items(): #I use for loop so that I could get the full data of shark attacks\n",
        "    print(year, count)\n"
      ],
      "metadata": {
        "colab": {
          "base_uri": "https://localhost:8080/",
          "height": 0
        },
        "id": "P_7zUw8hvnss",
        "outputId": "0c10170b-a3fc-4b85-a1df-ad13cc4ccb02"
      },
      "id": "P_7zUw8hvnss",
      "execution_count": 18,
      "outputs": [
        {
          "output_type": "stream",
          "name": "stdout",
          "text": [
            "['2025' '2024' '2026' '2023' '2022' '2021' '2020' '2019' '2018' '2017'\n",
            " '2016' '2015' '2014' '2013' '2012' '2011' '2010' '2009' '2008' '2007'\n",
            " '2006' '2005' '2004' '2003' '2002' '2001' '2000' '1999' '1998' '1997'\n",
            " '1996' '1995' '1984' '1994' '1993' '1992' '1991' '1990' '1989' '1969'\n",
            " '1988' '1987' '1986' '1985' '1983' '1982' '1981' '1980' '1979' '1978'\n",
            " '1977' '1976' '1975' '1974' '1973' '1972' '1971' '1970' '1968' '1967'\n",
            " '1966' '1965' '1964' '1963' '1962' '1961' '1960' '1959' '1958' '1957'\n",
            " '1956' '1955' '1954' '1953' '1952' '1951' '1950' '1949' '1948' '1947'\n",
            " '1946' '1945' '1944' '1943' '1942' '1941' '1940']\n",
            "Year\n",
            "1940     24\n",
            "1941     27\n",
            "1942     41\n",
            "1943     28\n",
            "1944     31\n",
            "       ... \n",
            "2022     98\n",
            "2023    109\n",
            "2024     49\n",
            "2025      6\n",
            "2026      1\n",
            "Name: count, Length: 87, dtype: int64\n",
            "1940 24\n",
            "1941 27\n",
            "1942 41\n",
            "1943 28\n",
            "1944 31\n",
            "1945 16\n",
            "1946 26\n",
            "1947 30\n",
            "1948 29\n",
            "1949 31\n",
            "1950 43\n",
            "1951 32\n",
            "1952 29\n",
            "1953 36\n",
            "1954 45\n",
            "1955 43\n",
            "1956 51\n",
            "1957 41\n",
            "1958 54\n",
            "1959 93\n",
            "1960 93\n",
            "1961 78\n",
            "1962 86\n",
            "1963 61\n",
            "1964 66\n",
            "1965 51\n",
            "1966 58\n",
            "1967 48\n",
            "1968 47\n",
            "1969 30\n",
            "1970 42\n",
            "1971 30\n",
            "1972 36\n",
            "1973 27\n",
            "1974 39\n",
            "1975 49\n",
            "1976 39\n",
            "1977 26\n",
            "1978 26\n",
            "1979 25\n",
            "1980 36\n",
            "1981 49\n",
            "1982 42\n",
            "1983 50\n",
            "1984 41\n",
            "1985 37\n",
            "1986 39\n",
            "1987 35\n",
            "1988 56\n",
            "1989 53\n",
            "1990 39\n",
            "1991 39\n",
            "1992 56\n",
            "1993 56\n",
            "1994 57\n",
            "1995 76\n",
            "1996 61\n",
            "1997 57\n",
            "1998 65\n",
            "1999 66\n",
            "2000 97\n",
            "2001 92\n",
            "2002 88\n",
            "2003 92\n",
            "2004 92\n",
            "2005 103\n",
            "2006 103\n",
            "2007 113\n",
            "2008 122\n",
            "2009 120\n",
            "2010 101\n",
            "2011 128\n",
            "2012 117\n",
            "2013 122\n",
            "2014 126\n",
            "2015 143\n",
            "2016 131\n",
            "2017 140\n",
            "2018 124\n",
            "2019 114\n",
            "2020 101\n",
            "2021 109\n",
            "2022 98\n",
            "2023 109\n",
            "2024 49\n",
            "2025 6\n",
            "2026 1\n"
          ]
        }
      ]
    },
    {
      "cell_type": "markdown",
      "source": [
        "From the data above: Shark attacks have generally increased over time, with a noticeable rise from the 1990s onward. In the 1940s-1950s, attacks ranged from 24 to 54 per year, but from 2000 to 2020, they consistently exceeded 90 per year, peaking at 143 in 2015. The decline in 2024 (49 attacks) and 2025 (6 attacks) may indicate incomplete data rather than a real decrease."
      ],
      "metadata": {
        "id": "L2kXc_6r3LHW"
      },
      "id": "L2kXc_6r3LHW"
    },
    {
      "cell_type": "markdown",
      "source": [
        "4. Clean the Age variable and make a histogram of the ages of the victims."
      ],
      "metadata": {
        "id": "njm9CX2D3REx"
      },
      "id": "njm9CX2D3REx"
    },
    {
      "cell_type": "code",
      "source": [
        "df['Age'] = pd.to_numeric(df['Age'], errors='coerce')   #coerce the \"Age\" variable to numeric\n",
        "df['Age'].hist(bins=20) #historgam"
      ],
      "metadata": {
        "colab": {
          "base_uri": "https://localhost:8080/",
          "height": 448
        },
        "id": "sfp4WZu33XIg",
        "outputId": "7cd5f1c8-adfd-4556-e50a-7f3202cde6d6"
      },
      "id": "sfp4WZu33XIg",
      "execution_count": 19,
      "outputs": [
        {
          "output_type": "execute_result",
          "data": {
            "text/plain": [
              "<Axes: >"
            ]
          },
          "metadata": {},
          "execution_count": 19
        },
        {
          "output_type": "display_data",
          "data": {
            "text/plain": [
              "<Figure size 640x480 with 1 Axes>"
            ],
            "image/png": "[encoded data removed]"
          },
          "metadata": {}
        }
      ]
    },
    {
      "cell_type": "markdown",
      "source": [
        "5. What proportion of victims are male?"
      ],
      "metadata": {
        "id": "ArF1BS_s4X6_"
      },
      "id": "ArF1BS_s4X6_"
    },
    {
      "cell_type": "code",
      "source": [
        "#print(df['Sex'].head())\n",
        "#print(df['Sex'].unique()) #output: ['M' 'F' nan ' M' 'M ' 'lli' 'M x 2']\n",
        "\n",
        "df['Sex'] = df['Sex'].astype(str).str.strip() # remove strip spaces from values:' M', 'M ')\n",
        "#print(df['Sex'].unique()) #output:['M' 'F' 'nan' 'lli' 'M x 2']\n",
        "\n",
        " #Replace incorrect values (like 'lli', 'M x 2') with NAN\n",
        "df['Sex'] = df['Sex'].replace({'lli': np.nan, 'M x 2': 'M'})\n",
        "#print(df['Sex'].unique()) #output: ['M' 'F' 'nan' nan]\n",
        "\n",
        "#remove 'nan'\n",
        "df['Sex'] = df['Sex'].replace({'nan': np.nan})\n",
        "#print(df['Sex'].unique()) #output: ['M' 'F' nan]\n",
        "\n",
        "male_proportion = (df['Sex'] == 'M').mean()\n",
        "print(male_proportion)\n",
        "\n",
        "\n",
        "\n",
        "\n",
        "\n"
      ],
      "metadata": {
        "colab": {
          "base_uri": "https://localhost:8080/",
          "height": 0
        },
        "id": "bYJ1o5AT4cLk",
        "outputId": "63a0b38f-3a39-4569-e54d-4a665ec63dfb"
      },
      "id": "bYJ1o5AT4cLk",
      "execution_count": 20,
      "outputs": [
        {
          "output_type": "stream",
          "name": "stdout",
          "text": [
            "0.787651154268963\n"
          ]
        }
      ]
    },
    {
      "cell_type": "markdown",
      "source": [
        "6. Clean the Type variable so it only takes three values: Provoked and Unprovoked and Unknown. What proportion of attacks are unprovoked?"
      ],
      "metadata": {
        "id": "JLIa7eRr-QHb"
      },
      "id": "JLIa7eRr-QHb"
    },
    {
      "cell_type": "code",
      "source": [
        "df['Type'].value_counts()"
      ],
      "metadata": {
        "colab": {
          "base_uri": "https://localhost:8080/",
          "height": 492
        },
        "id": "zjdmgB1U-T6n",
        "outputId": "a815a926-2a09-4889-9a01-e5709854b2d7"
      },
      "id": "zjdmgB1U-T6n",
      "execution_count": 21,
      "outputs": [
        {
          "output_type": "execute_result",
          "data": {
            "text/plain": [
              "Type\n",
              "Unprovoked             4055\n",
              "Provoked                516\n",
              "Invalid                 402\n",
              "Watercraft              280\n",
              "Sea Disaster            156\n",
              "Questionable             22\n",
              "Boat                      7\n",
              " Provoked                 2\n",
              "?                         1\n",
              "Unconfirmed               1\n",
              "Unverified                1\n",
              "Under investigation       1\n",
              "Name: count, dtype: int64"
            ],
            "text/html": [
              "<div>\n",
              "<style scoped>\n",
              "    .dataframe tbody tr th:only-of-type {\n",
              "        vertical-align: middle;\n",
              "    }\n",
              "\n",
              "    .dataframe tbody tr th {\n",
              "        vertical-align: top;\n",
              "    }\n",
              "\n",
              "    .dataframe thead th {\n",
              "        text-align: right;\n",
              "    }\n",
              "</style>\n",
              "<table border=\"1\" class=\"dataframe\">\n",
              "  <thead>\n",
              "    <tr style=\"text-align: right;\">\n",
              "      <th></th>\n",
              "      <th>count</th>\n",
              "    </tr>\n",
              "    <tr>\n",
              "      <th>Type</th>\n",
              "      <th></th>\n",
              "    </tr>\n",
              "  </thead>\n",
              "  <tbody>\n",
              "    <tr>\n",
              "      <th>Unprovoked</th>\n",
              "      <td>4055</td>\n",
              "    </tr>\n",
              "    <tr>\n",
              "      <th>Provoked</th>\n",
              "      <td>516</td>\n",
              "    </tr>\n",
              "    <tr>\n",
              "      <th>Invalid</th>\n",
              "      <td>402</td>\n",
              "    </tr>\n",
              "    <tr>\n",
              "      <th>Watercraft</th>\n",
              "      <td>280</td>\n",
              "    </tr>\n",
              "    <tr>\n",
              "      <th>Sea Disaster</th>\n",
              "      <td>156</td>\n",
              "    </tr>\n",
              "    <tr>\n",
              "      <th>Questionable</th>\n",
              "      <td>22</td>\n",
              "    </tr>\n",
              "    <tr>\n",
              "      <th>Boat</th>\n",
              "      <td>7</td>\n",
              "    </tr>\n",
              "    <tr>\n",
              "      <th>Provoked</th>\n",
              "      <td>2</td>\n",
              "    </tr>\n",
              "    <tr>\n",
              "      <th>?</th>\n",
              "      <td>1</td>\n",
              "    </tr>\n",
              "    <tr>\n",
              "      <th>Unconfirmed</th>\n",
              "      <td>1</td>\n",
              "    </tr>\n",
              "    <tr>\n",
              "      <th>Unverified</th>\n",
              "      <td>1</td>\n",
              "    </tr>\n",
              "    <tr>\n",
              "      <th>Under investigation</th>\n",
              "      <td>1</td>\n",
              "    </tr>\n",
              "  </tbody>\n",
              "</table>\n",
              "</div><br><label><b>dtype:</b> int64</label>"
            ]
          },
          "metadata": {},
          "execution_count": 21
        }
      ]
    },
    {
      "cell_type": "code",
      "source": [
        "df['Type'] = df['Type'].astype(str).str.strip()\n",
        "\n",
        "df['Type'] = df['Type'].replace(['Sea Disaster', 'Boat', 'Boating', 'Watercraft','Invalid','Questionable','?','Unconfirmed','Unverified','Under investigation'],'Unknown')\n",
        "print(df['Type'].value_counts())\n",
        "\n",
        "\n",
        "unprovoked_ratio = (df['Type'] == 'Unprovoked').mean()\n",
        "print(unprovoked_ratio)\n"
      ],
      "metadata": {
        "colab": {
          "base_uri": "https://localhost:8080/",
          "height": 0
        },
        "id": "9Td_7hKk-gT3",
        "outputId": "765ba68a-afbc-4b0a-dc5f-7e256eb5fd4e"
      },
      "id": "9Td_7hKk-gT3",
      "execution_count": 27,
      "outputs": [
        {
          "output_type": "stream",
          "name": "stdout",
          "text": [
            "Type\n",
            "Unprovoked    4055\n",
            "Unknown        885\n",
            "Provoked       518\n",
            "Name: count, dtype: int64\n",
            "0.7429461341150605\n"
          ]
        }
      ]
    },
    {
      "cell_type": "markdown",
      "source": [
        "7. Clean the Fatal Y/N variable so it only takes three values: Y, N, and Unknown."
      ],
      "metadata": {
        "id": "HYYJZek8BcOv"
      },
      "id": "HYYJZek8BcOv"
    },
    {
      "cell_type": "code",
      "source": [
        "df['Fatal Y/N'] = df['Fatal Y/N'].astype(str).str.strip()\n",
        "#print(df['Fatal Y/N'].value_counts())\n",
        "#output:N Y nan UNKNOWN  F M n Nq  2017  Y x 2\n",
        "\n",
        "df['Fatal Y/N'] = df['Fatal Y/N'].replace(['F','M','2017','nan','Nq','Y x 2'],np.nan)\n",
        "df['Fatal Y/N'] = df['Fatal Y/N'].replace('n','N')\n",
        "print(df['Fatal Y/N'].value_counts())\n"
      ],
      "metadata": {
        "colab": {
          "base_uri": "https://localhost:8080/",
          "height": 0
        },
        "id": "PpzEwK5cBgG6",
        "outputId": "81b23303-f24a-4121-fb9a-a84e473f4ef0"
      },
      "id": "PpzEwK5cBgG6",
      "execution_count": 28,
      "outputs": [
        {
          "output_type": "stream",
          "name": "stdout",
          "text": [
            "Fatal Y/N\n",
            "N          4186\n",
            "Y           811\n",
            "UNKNOWN      45\n",
            "Name: count, dtype: int64\n"
          ]
        }
      ]
    },
    {
      "cell_type": "markdown",
      "source": [
        "8. Are sharks more likely to launch unprovoked attacks on men or women? Is the attack more or less likely to be fatal when the attack is provoked or unprovoked? Is it more or less likely to be fatal when the victim is male or female? How do you feel about sharks?\n"
      ],
      "metadata": {
        "id": "pWWXI8EaL10K"
      },
      "id": "pWWXI8EaL10K"
    },
    {
      "cell_type": "code",
      "source": [
        "df['Sex'] = df['Sex'].astype(str).str.strip()\n",
        "#print(df['Sex'].unique())\n",
        "\n",
        "#Cross-tabulation of 'Sex' and 'Type'\n",
        "sex_vs_attack = pd.crosstab(df['Sex'], df['Type'])\n",
        "print(sex_vs_attack)"
      ],
      "metadata": {
        "colab": {
          "base_uri": "https://localhost:8080/",
          "height": 0
        },
        "id": "7yKpAi1YMC9Q",
        "outputId": "b7ab6041-79d9-433b-a15b-816c66a527ef"
      },
      "id": "7yKpAi1YMC9Q",
      "execution_count": 29,
      "outputs": [
        {
          "output_type": "stream",
          "name": "stdout",
          "text": [
            "Type  Provoked  Unknown  Unprovoked\n",
            "Sex                                \n",
            "F           28       78         600\n",
            "M          446      540        3313\n",
            "nan         44      267         142\n"
          ]
        }
      ]
    },
    {
      "cell_type": "markdown",
      "source": [
        "From the table above: Men experience significantly more unprovoked attacks than women.(3313> 600)\n"
      ],
      "metadata": {
        "id": "Ywm0237MOV0d"
      },
      "id": "Ywm0237MOV0d"
    },
    {
      "cell_type": "code",
      "source": [
        "# Cross-tabulation of 'Type' and 'Fatal Y/N'\n",
        "fatal_vs_type = pd.crosstab(df['Type'], df['Fatal Y/N'])\n",
        "\n",
        "print(fatal_vs_type)"
      ],
      "metadata": {
        "colab": {
          "base_uri": "https://localhost:8080/",
          "height": 0
        },
        "id": "pRm4B0zTOiLm",
        "outputId": "9fa11b45-d689-484c-dfb2-31e872bf8e4c"
      },
      "id": "pRm4B0zTOiLm",
      "execution_count": 30,
      "outputs": [
        {
          "output_type": "stream",
          "name": "stdout",
          "text": [
            "Fatal Y/N      N  UNKNOWN    Y\n",
            "Type                          \n",
            "Provoked     496        3   13\n",
            "Unknown      366        6  119\n",
            "Unprovoked  3324       36  679\n"
          ]
        }
      ]
    },
    {
      "cell_type": "markdown",
      "source": [
        "\n",
        "\n",
        "*   Provoked Attacks: 13 fatal out of 514 cases → Fatality rate ≈ 2.5%\n",
        "*   Unprovoked Attacks: 679 fatal out of 4042 cases → Fatality rate ≈ 16.8%\n",
        "\n",
        "Thus, unprovoked attacks are far more likely to be fatal than provoked attacks."
      ],
      "metadata": {
        "id": "mk32UZNnPHpP"
      },
      "id": "mk32UZNnPHpP"
    },
    {
      "cell_type": "code",
      "source": [
        "# Cross-tabulation of 'Sex' and 'Fatal Y/N'\n",
        "fatal_vs_sex = pd.crosstab(df['Sex'], df['Fatal Y/N'])\n",
        "\n",
        "print(fatal_vs_sex)"
      ],
      "metadata": {
        "colab": {
          "base_uri": "https://localhost:8080/",
          "height": 0
        },
        "id": "RQlHkYpSPc5p",
        "outputId": "94d969be-fb86-4ff6-dffa-2190b9a13df7"
      },
      "id": "RQlHkYpSPc5p",
      "execution_count": 31,
      "outputs": [
        {
          "output_type": "stream",
          "name": "stdout",
          "text": [
            "Fatal Y/N     N  UNKNOWN    Y\n",
            "Sex                          \n",
            "F           560        2   87\n",
            "M          3328       22  648\n",
            "nan         298       21   76\n"
          ]
        }
      ]
    },
    {
      "cell_type": "markdown",
      "source": [
        "*   Female Fatality Rate: 87 fatal out of 647 cases → 13.4%\n",
        "*   Male Fatality Rate: 648 fatal out of 3976 cases → 16.3%\n",
        "\n",
        "Thus, male victims more likely to die from a shark attack than female victims.\n"
      ],
      "metadata": {
        "id": "8JgAfDhHP5na"
      },
      "id": "8JgAfDhHP5na"
    },
    {
      "cell_type": "markdown",
      "source": [
        "To sum up, sharks are more likely to launch unprovoked attacks on men than women, and unprovoked attacks have a higher fatality rate than provoked ones. Male victims are more likely to die from shark attacks than female victims."
      ],
      "metadata": {
        "id": "hkCCAbB_PjiH"
      },
      "id": "hkCCAbB_PjiH"
    },
    {
      "cell_type": "markdown",
      "source": [
        "9. What proportion of attacks appear to be by white sharks? (Hint: str.split() makes a vector of text values into a list of lists, split by spaces.)"
      ],
      "metadata": {
        "id": "dZvT9XocMAIS"
      },
      "id": "dZvT9XocMAIS"
    },
    {
      "cell_type": "code",
      "source": [
        "#df['Species'].value_counts() # I firstly tried this code, but it didn't work\n",
        "\n",
        "print(df.columns) # So i use this code to check the issue\n",
        "#The column name 'Species' has an extra space at the end ('Species '), so df['Species'] will raise a KeyError in my previous code\n",
        "#Then, I want to remove trailing spaces from column names to prevent KeyError\n",
        "df.columns = df.columns.str.strip()\n",
        "\n",
        "# Convert the 'Species' column to lowercase and remove extra spaces\n",
        "df['Species'] = df['Species'].astype(str).str.lower().str.strip()\n",
        "\n",
        "# Split the 'species' column into separate words for better matching\n",
        "df['Species_list'] = df['Species'].str.split()\n",
        "#df['Species_list']\n",
        "\n",
        "# Filter rows where the first word in 'Species_list' is \"white\"\n",
        "white_shark_attacks = df[df['Species_list'].str[0] == \"white\"]\n",
        "#print(white_shark_attacks )\n",
        "\n",
        "# Calculate the proportion\n",
        "proportion_white_sharks = len(white_shark_attacks) / len(df)\n",
        "print(proportion_white_sharks)\n",
        "\n",
        "\n",
        "\n"
      ],
      "metadata": {
        "id": "-vAjV1ZdRrg8",
        "outputId": "698cc9a5-598e-4de0-dbc0-70c4fde2f221",
        "colab": {
          "base_uri": "https://localhost:8080/"
        }
      },
      "id": "-vAjV1ZdRrg8",
      "execution_count": 44,
      "outputs": [
        {
          "output_type": "stream",
          "name": "stdout",
          "text": [
            "Index(['Date', 'Year', 'Type', 'Country', 'State', 'Location', 'Activity',\n",
            "       'Name', 'Sex', 'Age', 'Injury', 'Fatal Y/N', 'Time', 'Species',\n",
            "       'Source', 'pdf', 'href formula', 'href', 'Case Number', 'Case Number.1',\n",
            "       'original order', 'Unnamed: 21', 'Unnamed: 22', 'Species_list'],\n",
            "      dtype='object')\n",
            "0.0710812356979405\n"
          ]
        }
      ]
    },
    {
      "cell_type": "markdown",
      "id": "5735a4d4-8be8-433a-a351-70eb8002e632",
      "metadata": {
        "id": "5735a4d4-8be8-433a-a351-70eb8002e632"
      },
      "source": [
        "**Q3.** Open the \"tidy_data.pdf\" document in the repo, which is a paper called Tidy Data by Hadley Wickham.\n",
        "\n",
        "  1. Read the abstract. What is this paper about?\n",
        "  2. Read the introduction. What is the \"tidy data standard\" intended to accomplish?\n",
        "  3. Read the intro to section 2. What does this sentence mean: \"Like families, tidy datasets are all alike but every messy dataset is messy in its own way.\" What does this sentence mean: \"For a given dataset, it’s usually easy to figure out what are observations and what are variables, but it is surprisingly difficult to precisely define variables and observations in general.\"\n",
        "  4. Read Section 2.2. How does Wickham define values, variables, and observations?\n",
        "  5. How is \"Tidy Data\" defined in section 2.3?\n",
        "  6. Read the intro to Section 3 and Section 3.1. What are the 5 most common problems with messy datasets? Why are the data in Table 4 messy? What is \"melting\" a dataset?\n",
        "  7. Why, specifically, is table 11 messy but table 12 tidy and \"molten\"?\n",
        "  8. Read Section 6. What is the \"chicken-and-egg\" problem with focusing on tidy data? What does Wickham hope happens in the future with further work on the subject of data wrangling?"
      ]
    },
    {
      "cell_type": "markdown",
      "source": [
        "1. This paper focuses on a key aspect of data cleaning: data tidying. Tidy data follows a simple structure: each variable is a column, each observation is a row, and each type of observational unit forms a table. This approach simplifies handling untidy datasets and enables the development of effective data analysis tools. The abstract outlines the definition and benefits of data tidying, along with a case study demonstrating its advantages."
      ],
      "metadata": {
        "id": "nDZWTmXwmLig"
      },
      "id": "nDZWTmXwmLig"
    },
    {
      "cell_type": "markdown",
      "source": [
        "2. From the introduction part, we can know the tidy data standard could provide a standard way to organize data values within a dataset. And this standard is designed to Facilitate initial exploration and analysis of the data, and to simplify the development of data analysis tools that work well together, making the data analysis easier to do."
      ],
      "metadata": {
        "id": "2Ek1GavMoA7T"
      },
      "id": "2Ek1GavMoA7T"
    },
    {
      "cell_type": "markdown",
      "source": [
        "3.\n",
        "The explanation of this sentence:\n",
        "\n",
        "\n",
        "> \"Like families, tidy datasets\n",
        "are all alike but every messy dataset is messy in its own way.\"\n",
        "*   Explanation: This sentence means that tidy datasets all follow the same clear structure, but messy datasets can be disorganized in many different ways. Tidy datasets provide a standardized way to link the structure of a dataset (its physical layout) with its semantics (its meaning). From this quote, it makes analysis easier. However, messy data can break these rules in different ways, such as \"Column headers are values, not variable names\" or \"Multiple variables are stored in one column.\" That’s why every messy dataset requires a different way to clean it.\n",
        "\n",
        "\n",
        "> \"For a given dataset, it’s usually easy to figure out what are observations and what are variables, but it is surprisingly difficult to precisely define variables and observations in general.\"\n",
        "*   Explanation: Usually, it’s easy to tell what the variables and observations are in a dataset, as the text says, \"For a given dataset, it’s usually easy to figure out what are observations and what are variables.\" But defining them generally is hard. For example, \"If the columns in Table 1 were height and weight we would have been happy to call them variables. If the columns were height and width, it would be less clear cut.\" This shows that what we consider a variable depends on the situation, making it difficult to create a universal rule.\n",
        "\n",
        "\n",
        "\n",
        "\n",
        "\n"
      ],
      "metadata": {
        "id": "UiwitUbQrkjx"
      },
      "id": "UiwitUbQrkjx"
    },
    {
      "cell_type": "markdown",
      "source": [
        "4. A dataset constitutes a gathering of values. These values can be either numeric or categorical/strings. Each value pertains to both a variable and an observation. A variable is an assemblage of values that gauge the identical attribute or property (such as height, color, temperature, make/model). An observation is a group of values that measure it.  "
      ],
      "metadata": {
        "id": "wKJ7uI1ruRQs"
      },
      "id": "wKJ7uI1ruRQs"
    },
    {
      "cell_type": "markdown",
      "source": [
        "5. Tidy data is a standard way of mapping the meaning of a dataset to its structure. A dataset is messy or tidy depending on how rows, columns and tables are matched up with observations, variables and types. In tidy data:\n",
        "  (1) Each variable forms a column.\n",
        "  (2)Each observation forms a row.\n",
        "  (3) Each type of observational unit forms a table."
      ],
      "metadata": {
        "id": "B3eg69LOuh51"
      },
      "id": "B3eg69LOuh51"
    },
    {
      "cell_type": "markdown",
      "source": [
        "6. This section describes the five most common problems with messy datasets, along with their remedies:\n",
        "(1)Column headers are values, not variable names.\n",
        "(2)Multiple variables are stored in one column.\n",
        "(3)Variables are stored in both rows and columns.\n",
        "(4)Multiple types of observational units are stored in the same table. (5)A single observational unit is stored in multiple tables.\n",
        "\n",
        "\n",
        "The data in Table 4 is messy because column headers are values instead of variable names. I quote the text explanation:\n",
        "\n",
        "> A common type of messy dataset is tabular data designed for presentation, where variables form both the rows and columns, and column headers are values, not variable names.\n",
        "\n",
        "To explain the meaning of \"Melting\", firstly I cite the definition of melting in article:\n",
        "> Melting is parameterised by a list of columns that are already variables, or colvars for short. The other columns are converted into two variables: a new variable called column that contains repeated column headings and a new variable called value that contains the concatenated data values from the previously separate columns.\n",
        "\n",
        "In the case of Table 4, melting would turn the income ranges (currently column names) into a single \"income\" column, and create a second column, \"freq,\" to store the corresponding values. This process helps make the data tidy and easier to analyze.\n",
        "\n",
        "\n",
        "\n",
        "\n"
      ],
      "metadata": {
        "id": "r635Qi8vu7GS"
      },
      "id": "r635Qi8vu7GS"
    },
    {
      "cell_type": "markdown",
      "source": [
        "7.\n",
        "Table 11 is messy because days (d1, d2, etc.) are used as column\n",
        "headers instead of being a single \"date\" variable. This makes the data harder to work with.\n",
        "\n",
        "Table 12(a) is molten because it turns the days into a single column, \"date,\" making the structure more organized. But it's still not tidy because the element column holds variable names (tmax, tmin) instead of actual data.\n",
        "\n",
        "Table 12(b) is tidy because each row is a single day's observation, and each variable (date, tmax, tmin) has its own column. Now, all values are properly structured for easy analysis."
      ],
      "metadata": {
        "id": "Hg3G8r_dwcrq"
      },
      "id": "Hg3G8r_dwcrq"
    },
    {
      "cell_type": "markdown",
      "source": [
        "8.\n",
        "\n",
        "\n",
        "> There is a chicken-and-egg problem with tidy data: if tidy data is only as useful as the tools that work with it, then tidy tools will be inextricably linked to tidy data.\n",
        "\n",
        "This is how author explains chicken-and-egg problem with tidy data, my understanding is if people only use tidy data because of existing tools like ggplot2 and dplyr as mentioned in article, then the concept of tidy data might just be a way to promote these tools rather than a fundamental approach to data organization.\n",
        "\n",
        "\n",
        "Wickham wants tidy data to be more than just a tool-specific framework. He hopes it leads to a broader philosophy of data cleaning and organization. He states:\n",
        "\n",
        "\n",
        "> While I hope that the tidy data framework is not one of those false starts, I also don’t see it as the final solution. I hope others will build on this framework to develop even better data storage strategies and better tools.\n",
        "\n",
        "It's obvious to say that he wants tidy data to inspire new ideas, tools, and best practices in data science as a whole.\n",
        "\n",
        "\n"
      ],
      "metadata": {
        "id": "kNt7c9RZxPPG"
      },
      "id": "kNt7c9RZxPPG"
    },
    {
      "cell_type": "markdown",
      "id": "649494cd-cfd6-4f80-992a-9994fc19e1d5",
      "metadata": {
        "id": "649494cd-cfd6-4f80-992a-9994fc19e1d5"
      },
      "source": [
        "**Q4.** Many important datasets contain a race variable, typically limited to a handful of values often including Black, White, Asian, Latino, and Indigenous. This question looks at data gathering efforts on this variable by the U.S. Federal government.\n",
        "\n",
        "1. How did the most recent US Census gather data on race?\n",
        "2. Why do we gather these data? What role do these kinds of data play in politics and society? Why does data quality matter?\n",
        "3. Please provide a constructive criticism of how the Census was conducted: What was done well? What do you think was missing? How should future large scale surveys be adjusted to best reflect the diversity of the population? Could some of the Census' good practices be adopted more widely to gather richer and more useful data?\n",
        "4. How did the Census gather data on sex and gender? Please provide a similar constructive criticism of their practices.\n",
        "5. When it comes to cleaning data, what concerns do you have about protected characteristics like sex, gender, sexual identity, or race? What challenges can you imagine arising when there are missing values? What good or bad practices might people adopt, and why?\n",
        "6. Suppose someone invented an algorithm to impute values for protected characteristics like race, gender, sex, or sexuality. What kinds of concerns would you have?"
      ]
    }
  ],
  "metadata": {
    "colab": {
      "provenance": [],
      "include_colab_link": true
    },
    "kernelspec": {
      "display_name": "Python 3 (ipykernel)",
      "language": "python",
      "name": "python3"
    },
    "language_info": {
      "codemirror_mode": {
        "name": "ipython",
        "version": 3
      },
      "file_extension": ".py",
      "mimetype": "text/x-python",
      "name": "python",
      "nbconvert_exporter": "python",
      "pygments_lexer": "ipython3",
      "version": "3.10.4"
    }
  },
  "nbformat": 4,
  "nbformat_minor": 5
}